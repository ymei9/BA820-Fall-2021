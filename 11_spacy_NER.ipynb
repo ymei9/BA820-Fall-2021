{
  "nbformat": 4,
  "nbformat_minor": 0,
  "metadata": {
    "colab": {
      "name": "11-spacy-NER",
      "provenance": [],
      "collapsed_sections": [],
      "include_colab_link": true
    },
    "kernelspec": {
      "name": "python3",
      "display_name": "Python 3"
    },
    "language_info": {
      "name": "python"
    }
  },
  "cells": [
    {
      "cell_type": "markdown",
      "metadata": {
        "id": "view-in-github",
        "colab_type": "text"
      },
      "source": [
        "<a href=\"https://colab.research.google.com/github/ymei9/Unsupervised-ML-NLP/blob/main/11_spacy_NER.ipynb\" target=\"_parent\"><img src=\"https://colab.research.google.com/assets/colab-badge.svg\" alt=\"Open In Colab\"/></a>"
      ]
    },
    {
      "cell_type": "code",
      "metadata": {
        "id": "Piw-MAQpQr8V"
      },
      "source": [
        "##############################################################################\n",
        "## Fundamentals for pratical Text Analytics - spacy for NLP tasks\n",
        "##                                            NER, \n",
        "##                                            use models to extract objects in our text\n",
        "##                                            why:  reporting/summarization\n",
        "##                                                  use downstream (API calls, db lookups)\n",
        "##\n",
        "##\n",
        "## Learning goals:\n",
        "##                 - SPACY!\n",
        "##                 - NER extraction\n",
        "##                 - annotating our own data is a real thing\n",
        "##\n",
        "##\n",
        "## Great resources\n",
        "##                 - https://spacy.io/usage/spacy-101\n",
        "##\n",
        "##############################################################################"
      ],
      "execution_count": null,
      "outputs": []
    },
    {
      "cell_type": "code",
      "metadata": {
        "id": "j_R7-hTzQyzQ"
      },
      "source": [
        "# installs\n",
        "! pip install -U spacy \n",
        "! pip install -U textacy\n",
        "! pip install newspaper3k\n",
        "! pip install afinn"
      ],
      "execution_count": null,
      "outputs": []
    },
    {
      "cell_type": "code",
      "metadata": {
        "id": "0nCDfEpzQy3_"
      },
      "source": [
        "# imports\n",
        "import spacy\n",
        "from spacy import cli\n",
        "from spacy import displacy\n",
        "import pandas as pd\n",
        "\n",
        "\n",
        "# upcoming!\n",
        "# from textacy.extract.keyterms import textrank\n",
        "# import gensim\n",
        "\n",
        "import textacy\n",
        "\n",
        "from newspaper import Article\n",
        "import json\n",
        "\n",
        "from afinn import Afinn\n"
      ],
      "execution_count": null,
      "outputs": []
    },
    {
      "cell_type": "markdown",
      "metadata": {
        "id": "EBISX1TXz1xn"
      },
      "source": [
        "# Spacy"
      ]
    },
    {
      "cell_type": "code",
      "metadata": {
        "id": "8jh4hmlbsDfI"
      },
      "source": [
        "######################################### lets get started with spacy!\n",
        "##\n",
        "## \"industrial strength\" NLP tools\n",
        "## increasingly the go to in this space, but like Textblob, \n",
        "## it focuses on document-oriented operations\n",
        "## lots of configuration and power, but lets get the foundations set\n",
        "##"
      ],
      "execution_count": null,
      "outputs": []
    },
    {
      "cell_type": "markdown",
      "metadata": {
        "id": "rImjU5BisiFD"
      },
      "source": [
        "![](https://d33wubrfki0l68.cloudfront.net/3ad0582d97663a1272ffc4ccf09f1c5b335b17e9/7f49c/pipeline-fde48da9b43661abcdf62ab70a546d71.svg)"
      ]
    },
    {
      "cell_type": "code",
      "metadata": {
        "id": "EGlO0EcVQy7P",
        "colab": {
          "base_uri": "https://localhost:8080/"
        },
        "outputId": "84584b10-6010-425c-c209-47a48f77ce89"
      },
      "source": [
        "# If VS Code crashes\n",
        "# use\n",
        "# (from command line python -m spacy download en_core_web_md)\n",
        "# and ignore the cli commands below, proceed to spacy.load\n",
        "\n",
        "model = \"en_core_web_md\"\n",
        "cli.download(model)\n",
        "\n",
        "nlp = spacy.load('en_core_web_md')"
      ],
      "execution_count": null,
      "outputs": [
        {
          "output_type": "stream",
          "name": "stdout",
          "text": [
            "\u001b[38;5;2m✔ Download and installation successful\u001b[0m\n",
            "You can now load the package via spacy.load('en_core_web_md')\n"
          ]
        }
      ]
    },
    {
      "cell_type": "code",
      "metadata": {
        "id": "bRGpleOosso-"
      },
      "source": [
        "# spacy operates via language models\n",
        "# https://spacy.io/models\n",
        "# we setup the model as nlp, the spacy convention\n"
      ],
      "execution_count": null,
      "outputs": []
    },
    {
      "cell_type": "code",
      "metadata": {
        "id": "GWnaYO_cs1sY"
      },
      "source": [
        "# the message we will parse into a document\n",
        "msg = 'BA820 uses python and spacy.'\n",
        "\n",
        "# we are using all of the defaults, but this is a \"heavy\" parse with a ton of great data to explore\n",
        "# https://spacy.io/usage/spacy-101#features\n",
        "doc = nlp(msg)"
      ],
      "execution_count": null,
      "outputs": []
    },
    {
      "cell_type": "code",
      "metadata": {
        "id": "117gKwvxt2Zb",
        "colab": {
          "base_uri": "https://localhost:8080/"
        },
        "outputId": "c3ce598e-8db0-42b6-f456-f5f500d8c34a"
      },
      "source": [
        "# what do we have?\n",
        "type(doc)"
      ],
      "execution_count": null,
      "outputs": [
        {
          "output_type": "execute_result",
          "data": {
            "text/plain": [
              "spacy.tokens.doc.Doc"
            ]
          },
          "metadata": {},
          "execution_count": 9
        }
      ]
    },
    {
      "cell_type": "code",
      "metadata": {
        "id": "bJSlbK6Pt2uQ"
      },
      "source": [
        ""
      ],
      "execution_count": null,
      "outputs": []
    },
    {
      "cell_type": "code",
      "metadata": {
        "id": "Y_iAU183t4NA",
        "colab": {
          "base_uri": "https://localhost:8080/"
        },
        "outputId": "c958a8ff-5623-4e42-8595-334f40db1ca2"
      },
      "source": [
        "# we can list it, but those are not ordinary pieces of text!\n",
        "list(doc)"
      ],
      "execution_count": null,
      "outputs": [
        {
          "output_type": "execute_result",
          "data": {
            "text/plain": [
              "[BA820, uses, python, and, spacy, .]"
            ]
          },
          "metadata": {},
          "execution_count": 10
        }
      ]
    },
    {
      "cell_type": "code",
      "metadata": {
        "id": "FlRtl2j6t8wW",
        "colab": {
          "base_uri": "https://localhost:8080/"
        },
        "outputId": "fcc3d348-d3ab-48b4-be2d-e23f7e883bcf"
      },
      "source": [
        "# tokens\n",
        "token = doc[0]\n",
        "type(token)"
      ],
      "execution_count": null,
      "outputs": [
        {
          "output_type": "execute_result",
          "data": {
            "text/plain": [
              "spacy.tokens.token.Token"
            ]
          },
          "metadata": {},
          "execution_count": 11
        }
      ]
    },
    {
      "cell_type": "code",
      "metadata": {
        "id": "hIqaQwBmuJH_"
      },
      "source": [
        "# the tokens have properties/attributes\n",
        "# https://spacy.io/usage/linguistic-features#tokenization"
      ],
      "execution_count": null,
      "outputs": []
    },
    {
      "cell_type": "markdown",
      "metadata": {
        "id": "mL_kfgBZuv1i"
      },
      "source": [
        "![](https://spacy.io/tokenization-9b27c0f6fe98dcb26239eba4d3ba1f3d.svg)"
      ]
    },
    {
      "cell_type": "code",
      "metadata": {
        "id": "TSxB5TpIuw1Q"
      },
      "source": [
        "# link to pseudocode for how spacy tokenizes \n",
        "# https://spacy.io/usage/linguistic-features#how-tokenizer-works"
      ],
      "execution_count": null,
      "outputs": []
    },
    {
      "cell_type": "code",
      "metadata": {
        "id": "6CHLJZSZu3w5",
        "colab": {
          "base_uri": "https://localhost:8080/"
        },
        "outputId": "f3e594a2-60fa-40bd-dfb9-89db8ad599f6"
      },
      "source": [
        "# what do we have with a token?\n",
        "# lots of nlp elements!\n",
        "[token.text for token in doc]"
      ],
      "execution_count": null,
      "outputs": [
        {
          "output_type": "execute_result",
          "data": {
            "text/plain": [
              "['BA820', 'uses', 'python', 'and', 'spacy', '.']"
            ]
          },
          "metadata": {},
          "execution_count": 12
        }
      ]
    },
    {
      "cell_type": "code",
      "metadata": {
        "id": "BsS48tDvTHa-",
        "colab": {
          "base_uri": "https://localhost:8080/",
          "height": 35
        },
        "outputId": "6bf09a8f-2128-4a0a-a944-66544f7d05fe"
      },
      "source": [
        "token.text"
      ],
      "execution_count": null,
      "outputs": [
        {
          "output_type": "execute_result",
          "data": {
            "application/vnd.google.colaboratory.intrinsic+json": {
              "type": "string"
            },
            "text/plain": [
              "'BA820'"
            ]
          },
          "metadata": {},
          "execution_count": 32
        }
      ]
    },
    {
      "cell_type": "code",
      "metadata": {
        "id": "2pnltczsu8_W",
        "colab": {
          "base_uri": "https://localhost:8080/"
        },
        "outputId": "55df8465-be1d-4ef0-f216-65e76b519fdc"
      },
      "source": [
        "# attributes\n",
        "# https://spacy.io/api/token\n",
        "token.is_lower\n",
        "token.is_stop\n",
        "token.is_punct\n",
        "token.is_sent_start\n",
        "token.is_digit"
      ],
      "execution_count": null,
      "outputs": [
        {
          "output_type": "execute_result",
          "data": {
            "text/plain": [
              "False"
            ]
          },
          "metadata": {},
          "execution_count": 18
        }
      ]
    },
    {
      "cell_type": "code",
      "metadata": {
        "id": "ST1pp-7bvRUs",
        "colab": {
          "base_uri": "https://localhost:8080/"
        },
        "outputId": "acbc706e-8181-4ea7-f08e-442021b60c7f"
      },
      "source": [
        "# go back to the doc\n",
        "len(doc)"
      ],
      "execution_count": null,
      "outputs": [
        {
          "output_type": "execute_result",
          "data": {
            "text/plain": [
              "6"
            ]
          },
          "metadata": {},
          "execution_count": 19
        }
      ]
    },
    {
      "cell_type": "code",
      "metadata": {
        "id": "fudj7zS0wXiH"
      },
      "source": [
        "# extacting the tokenization in spacy\n"
      ],
      "execution_count": null,
      "outputs": []
    },
    {
      "cell_type": "code",
      "metadata": {
        "id": "9RcmfsUswdbm",
        "colab": {
          "base_uri": "https://localhost:8080/"
        },
        "outputId": "e6d1788b-9322-4f3c-a357-782825c25269"
      },
      "source": [
        "# we saw above, each token is an object we can inspect\n",
        "# remove punct\n",
        "[token.text for token in doc if not token.is_punct]\n",
        "\n",
        "# make lower case\n",
        "[token.text.lower() for token in doc if not token.is_punct]"
      ],
      "execution_count": null,
      "outputs": [
        {
          "output_type": "execute_result",
          "data": {
            "text/plain": [
              "['ba820', 'uses', 'python', 'and', 'spacy']"
            ]
          },
          "metadata": {},
          "execution_count": 20
        }
      ]
    },
    {
      "cell_type": "code",
      "metadata": {
        "id": "tlwoRmlpwqyA",
        "colab": {
          "base_uri": "https://localhost:8080/"
        },
        "outputId": "fa2fc6ec-953e-4a2a-adab-b280ca866470"
      },
      "source": [
        "# remove stopwords\n",
        "# good examples on accessing/modifying stopwords:\n",
        "# https://stackoverflow.com/questions/41170726/add-remove-custom-stop-words-with-spacy\n",
        "\n",
        "[token.text.lower() for token in doc if not token.is_punct and not token.is_stop]"
      ],
      "execution_count": null,
      "outputs": [
        {
          "output_type": "execute_result",
          "data": {
            "text/plain": [
              "['ba820', 'uses', 'python', 'spacy']"
            ]
          },
          "metadata": {},
          "execution_count": 21
        }
      ]
    },
    {
      "cell_type": "code",
      "metadata": {
        "id": "WfCRYp1Lwr9s"
      },
      "source": [
        "# lets just keep everything as is\n"
      ],
      "execution_count": null,
      "outputs": []
    },
    {
      "cell_type": "code",
      "metadata": {
        "id": "82Xq2z8RyzfP",
        "colab": {
          "base_uri": "https://localhost:8080/"
        },
        "outputId": "31c77806-fccd-4b1f-8afe-3291e0b10d4a"
      },
      "source": [
        "parsed = [(token.text, token.lemma_, token.pos_, token.tag_, token.dep_, token.head) for token in doc]\n",
        "parsed"
      ],
      "execution_count": null,
      "outputs": [
        {
          "output_type": "execute_result",
          "data": {
            "text/plain": [
              "[('BA820', 'BA820', 'PROPN', 'NNP', 'nsubj', uses),\n",
              " ('uses', 'use', 'VERB', 'VBZ', 'ROOT', uses),\n",
              " ('python', 'python', 'NOUN', 'NN', 'dobj', uses),\n",
              " ('and', 'and', 'CCONJ', 'CC', 'cc', python),\n",
              " ('spacy', 'spacy', 'NOUN', 'NN', 'conj', python),\n",
              " ('.', '.', 'PUNCT', '.', 'punct', uses)]"
            ]
          },
          "metadata": {},
          "execution_count": 23
        }
      ]
    },
    {
      "cell_type": "code",
      "metadata": {
        "id": "in4DY5tTzZO9"
      },
      "source": [
        "# ok, there is a lot going on, but we can now see the idea of the language models in action\n",
        "# we are tokenizing text\n",
        "# the text itself has representations, like pos, lemma, etc.\n",
        "# https://spacy.io/usage/linguistic-features#pos-tagging\n",
        "\n",
        "# luckily, spacy has built in help!\n",
        "\n"
      ],
      "execution_count": null,
      "outputs": []
    },
    {
      "cell_type": "code",
      "metadata": {
        "id": "Mz7bKkClzaBk",
        "colab": {
          "base_uri": "https://localhost:8080/",
          "height": 333
        },
        "outputId": "4940667e-baf3-48f3-b652-e182d0b8d774"
      },
      "source": [
        "# spacy, via it's models (learned from labeled data!) can even map the relationships\n",
        "\n",
        "\n",
        "# for those in jupyter or colab\n",
        "displacy.render(doc, style=\"dep\", jupyter=True)\n",
        "\n",
        "# if in vs code - spacy has a built in server\n",
        "# the viz is at http://localhost:5000 \n",
        "# displacy.serve(doc, style=\"dep\")"
      ],
      "execution_count": null,
      "outputs": [
        {
          "output_type": "display_data",
          "data": {
            "text/html": [
              "<span class=\"tex2jax_ignore\"><svg xmlns=\"http://www.w3.org/2000/svg\" xmlns:xlink=\"http://www.w3.org/1999/xlink\" xml:lang=\"en\" id=\"c0a849025b834f65835161750653db48-0\" class=\"displacy\" width=\"925\" height=\"312.0\" direction=\"ltr\" style=\"max-width: none; height: 312.0px; color: #000000; background: #ffffff; font-family: Arial; direction: ltr\">\n",
              "<text class=\"displacy-token\" fill=\"currentColor\" text-anchor=\"middle\" y=\"222.0\">\n",
              "    <tspan class=\"displacy-word\" fill=\"currentColor\" x=\"50\">BA820</tspan>\n",
              "    <tspan class=\"displacy-tag\" dy=\"2em\" fill=\"currentColor\" x=\"50\">PROPN</tspan>\n",
              "</text>\n",
              "\n",
              "<text class=\"displacy-token\" fill=\"currentColor\" text-anchor=\"middle\" y=\"222.0\">\n",
              "    <tspan class=\"displacy-word\" fill=\"currentColor\" x=\"225\">uses</tspan>\n",
              "    <tspan class=\"displacy-tag\" dy=\"2em\" fill=\"currentColor\" x=\"225\">VERB</tspan>\n",
              "</text>\n",
              "\n",
              "<text class=\"displacy-token\" fill=\"currentColor\" text-anchor=\"middle\" y=\"222.0\">\n",
              "    <tspan class=\"displacy-word\" fill=\"currentColor\" x=\"400\">python</tspan>\n",
              "    <tspan class=\"displacy-tag\" dy=\"2em\" fill=\"currentColor\" x=\"400\">NOUN</tspan>\n",
              "</text>\n",
              "\n",
              "<text class=\"displacy-token\" fill=\"currentColor\" text-anchor=\"middle\" y=\"222.0\">\n",
              "    <tspan class=\"displacy-word\" fill=\"currentColor\" x=\"575\">and</tspan>\n",
              "    <tspan class=\"displacy-tag\" dy=\"2em\" fill=\"currentColor\" x=\"575\">CCONJ</tspan>\n",
              "</text>\n",
              "\n",
              "<text class=\"displacy-token\" fill=\"currentColor\" text-anchor=\"middle\" y=\"222.0\">\n",
              "    <tspan class=\"displacy-word\" fill=\"currentColor\" x=\"750\">spacy.</tspan>\n",
              "    <tspan class=\"displacy-tag\" dy=\"2em\" fill=\"currentColor\" x=\"750\">NOUN</tspan>\n",
              "</text>\n",
              "\n",
              "<g class=\"displacy-arrow\">\n",
              "    <path class=\"displacy-arc\" id=\"arrow-c0a849025b834f65835161750653db48-0-0\" stroke-width=\"2px\" d=\"M70,177.0 C70,89.5 220.0,89.5 220.0,177.0\" fill=\"none\" stroke=\"currentColor\"/>\n",
              "    <text dy=\"1.25em\" style=\"font-size: 0.8em; letter-spacing: 1px\">\n",
              "        <textPath xlink:href=\"#arrow-c0a849025b834f65835161750653db48-0-0\" class=\"displacy-label\" startOffset=\"50%\" side=\"left\" fill=\"currentColor\" text-anchor=\"middle\">nsubj</textPath>\n",
              "    </text>\n",
              "    <path class=\"displacy-arrowhead\" d=\"M70,179.0 L62,167.0 78,167.0\" fill=\"currentColor\"/>\n",
              "</g>\n",
              "\n",
              "<g class=\"displacy-arrow\">\n",
              "    <path class=\"displacy-arc\" id=\"arrow-c0a849025b834f65835161750653db48-0-1\" stroke-width=\"2px\" d=\"M245,177.0 C245,89.5 395.0,89.5 395.0,177.0\" fill=\"none\" stroke=\"currentColor\"/>\n",
              "    <text dy=\"1.25em\" style=\"font-size: 0.8em; letter-spacing: 1px\">\n",
              "        <textPath xlink:href=\"#arrow-c0a849025b834f65835161750653db48-0-1\" class=\"displacy-label\" startOffset=\"50%\" side=\"left\" fill=\"currentColor\" text-anchor=\"middle\">dobj</textPath>\n",
              "    </text>\n",
              "    <path class=\"displacy-arrowhead\" d=\"M395.0,179.0 L403.0,167.0 387.0,167.0\" fill=\"currentColor\"/>\n",
              "</g>\n",
              "\n",
              "<g class=\"displacy-arrow\">\n",
              "    <path class=\"displacy-arc\" id=\"arrow-c0a849025b834f65835161750653db48-0-2\" stroke-width=\"2px\" d=\"M420,177.0 C420,89.5 570.0,89.5 570.0,177.0\" fill=\"none\" stroke=\"currentColor\"/>\n",
              "    <text dy=\"1.25em\" style=\"font-size: 0.8em; letter-spacing: 1px\">\n",
              "        <textPath xlink:href=\"#arrow-c0a849025b834f65835161750653db48-0-2\" class=\"displacy-label\" startOffset=\"50%\" side=\"left\" fill=\"currentColor\" text-anchor=\"middle\">cc</textPath>\n",
              "    </text>\n",
              "    <path class=\"displacy-arrowhead\" d=\"M570.0,179.0 L578.0,167.0 562.0,167.0\" fill=\"currentColor\"/>\n",
              "</g>\n",
              "\n",
              "<g class=\"displacy-arrow\">\n",
              "    <path class=\"displacy-arc\" id=\"arrow-c0a849025b834f65835161750653db48-0-3\" stroke-width=\"2px\" d=\"M420,177.0 C420,2.0 750.0,2.0 750.0,177.0\" fill=\"none\" stroke=\"currentColor\"/>\n",
              "    <text dy=\"1.25em\" style=\"font-size: 0.8em; letter-spacing: 1px\">\n",
              "        <textPath xlink:href=\"#arrow-c0a849025b834f65835161750653db48-0-3\" class=\"displacy-label\" startOffset=\"50%\" side=\"left\" fill=\"currentColor\" text-anchor=\"middle\">conj</textPath>\n",
              "    </text>\n",
              "    <path class=\"displacy-arrowhead\" d=\"M750.0,179.0 L758.0,167.0 742.0,167.0\" fill=\"currentColor\"/>\n",
              "</g>\n",
              "</svg></span>"
            ],
            "text/plain": [
              "<IPython.core.display.HTML object>"
            ]
          },
          "metadata": {}
        }
      ]
    },
    {
      "cell_type": "code",
      "metadata": {
        "id": "yPn3oXd51Gf6"
      },
      "source": [
        "#######################################  YOUR TURN\n",
        "# using the corpus below, parse the text and POS tag, and lemma\n",
        "\n",
        "corpus = [\"Brock likes golf and hockey\",\n",
        "          \"I love teaching at Questrom\",\n",
        "          \"Python makes data analytics fun!\"]"
      ],
      "execution_count": null,
      "outputs": []
    },
    {
      "cell_type": "code",
      "metadata": {
        "id": "D9S7sgqBNslO"
      },
      "source": [
        "parsed = []\n",
        "for i in range (len(corpus)):\n",
        "  doc = nlp(corpus[i])\n",
        "  parsed.append([(token.text, token.lemma_, token.pos_) for token in doc])\n"
      ],
      "execution_count": null,
      "outputs": []
    },
    {
      "cell_type": "code",
      "metadata": {
        "id": "oyjIX5muNspM",
        "colab": {
          "base_uri": "https://localhost:8080/"
        },
        "outputId": "ccce5028-cc2f-4978-bd1d-49d0e9a4b8ed"
      },
      "source": [
        "parsed"
      ],
      "execution_count": null,
      "outputs": [
        {
          "output_type": "execute_result",
          "data": {
            "text/plain": [
              "[[('Brock', 'Brock', 'PROPN'),\n",
              "  ('likes', 'like', 'VERB'),\n",
              "  ('golf', 'golf', 'NOUN'),\n",
              "  ('and', 'and', 'CCONJ'),\n",
              "  ('hockey', 'hockey', 'NOUN')],\n",
              " [('I', 'I', 'PRON'),\n",
              "  ('love', 'love', 'VERB'),\n",
              "  ('teaching', 'teaching', 'NOUN'),\n",
              "  ('at', 'at', 'ADP'),\n",
              "  ('Questrom', 'Questrom', 'PROPN')],\n",
              " [('Python', 'Python', 'PROPN'),\n",
              "  ('makes', 'make', 'VERB'),\n",
              "  ('data', 'data', 'NOUN'),\n",
              "  ('analytics', 'analytic', 'NOUN'),\n",
              "  ('fun', 'fun', 'NOUN'),\n",
              "  ('!', '!', 'PUNCT')]]"
            ]
          },
          "metadata": {},
          "execution_count": 36
        }
      ]
    },
    {
      "cell_type": "code",
      "metadata": {
        "id": "jRxKefPhNssE"
      },
      "source": [
        "docs = list(nlp.pipe(corpus))"
      ],
      "execution_count": null,
      "outputs": []
    },
    {
      "cell_type": "code",
      "metadata": {
        "id": "1xy3JBKrULei",
        "colab": {
          "base_uri": "https://localhost:8080/"
        },
        "outputId": "f90c1210-d533-4f59-a13a-f4e00bb00d76"
      },
      "source": [
        "docs"
      ],
      "execution_count": null,
      "outputs": [
        {
          "output_type": "execute_result",
          "data": {
            "text/plain": [
              "[Brock likes golf and hockey,\n",
              " I love teaching at Questrom,\n",
              " Python makes data analytics fun!]"
            ]
          },
          "metadata": {},
          "execution_count": 38
        }
      ]
    },
    {
      "cell_type": "code",
      "metadata": {
        "id": "XlYgx4LGUbo3",
        "colab": {
          "base_uri": "https://localhost:8080/"
        },
        "outputId": "ce90df98-25e9-4045-8af5-682c0ad53a3d"
      },
      "source": [
        "[(token.text, token.lemma_, token.pos_) for doc in docs for token in doc]"
      ],
      "execution_count": null,
      "outputs": [
        {
          "output_type": "execute_result",
          "data": {
            "text/plain": [
              "[('Brock', 'Brock', 'PROPN'),\n",
              " ('likes', 'like', 'VERB'),\n",
              " ('golf', 'golf', 'NOUN'),\n",
              " ('and', 'and', 'CCONJ'),\n",
              " ('hockey', 'hockey', 'NOUN'),\n",
              " ('I', 'I', 'PRON'),\n",
              " ('love', 'love', 'VERB'),\n",
              " ('teaching', 'teaching', 'NOUN'),\n",
              " ('at', 'at', 'ADP'),\n",
              " ('Questrom', 'Questrom', 'PROPN'),\n",
              " ('Python', 'Python', 'PROPN'),\n",
              " ('makes', 'make', 'VERB'),\n",
              " ('data', 'data', 'NOUN'),\n",
              " ('analytics', 'analytic', 'NOUN'),\n",
              " ('fun', 'fun', 'NOUN'),\n",
              " ('!', '!', 'PUNCT')]"
            ]
          },
          "metadata": {},
          "execution_count": 39
        }
      ]
    },
    {
      "cell_type": "markdown",
      "metadata": {
        "id": "UWUJRSqw23CZ"
      },
      "source": [
        "![](https://hashouttech.com/static/3c5973a520b86c3660a9771453df5794/2bef9/span-object.png)"
      ]
    },
    {
      "cell_type": "code",
      "metadata": {
        "id": "U4TtkjLk28JY"
      },
      "source": [
        "# before we dive into NER, its worth noting that docs are a brilliant representation for text\n",
        "# at the core, and to keep simple, think like slicing elements of a list\n",
        "\n"
      ],
      "execution_count": null,
      "outputs": []
    },
    {
      "cell_type": "code",
      "metadata": {
        "id": "TiTwuo6m3HHH",
        "colab": {
          "base_uri": "https://localhost:8080/"
        },
        "outputId": "35faaaf1-844f-400a-e7fd-895269625c3c"
      },
      "source": [
        "doc[:2]"
      ],
      "execution_count": null,
      "outputs": [
        {
          "output_type": "execute_result",
          "data": {
            "text/plain": [
              "Python makes"
            ]
          },
          "metadata": {},
          "execution_count": 40
        }
      ]
    },
    {
      "cell_type": "code",
      "metadata": {
        "id": "nf78g8AT3I9c"
      },
      "source": [
        "myspan = doc[:4]"
      ],
      "execution_count": null,
      "outputs": []
    },
    {
      "cell_type": "code",
      "metadata": {
        "id": "Bas2GYVt3SbH",
        "colab": {
          "base_uri": "https://localhost:8080/"
        },
        "outputId": "42a77311-5f4e-4902-c0b2-7026afd1aafc"
      },
      "source": [
        "myspan"
      ],
      "execution_count": null,
      "outputs": [
        {
          "output_type": "execute_result",
          "data": {
            "text/plain": [
              "Python makes data analytics"
            ]
          },
          "metadata": {},
          "execution_count": 43
        }
      ]
    },
    {
      "cell_type": "code",
      "metadata": {
        "id": "JsG50_S4VuwS",
        "colab": {
          "base_uri": "https://localhost:8080/"
        },
        "outputId": "14cf8c93-607b-4d8c-e4a6-a5015638d606"
      },
      "source": [
        "type(myspan)"
      ],
      "execution_count": null,
      "outputs": [
        {
          "output_type": "execute_result",
          "data": {
            "text/plain": [
              "spacy.tokens.span.Span"
            ]
          },
          "metadata": {},
          "execution_count": 44
        }
      ]
    },
    {
      "cell_type": "code",
      "metadata": {
        "id": "RcoyMMokVw2q",
        "colab": {
          "base_uri": "https://localhost:8080/"
        },
        "outputId": "8dd04884-71a7-43c9-c3a0-520f8433b208"
      },
      "source": [
        "myspan.end_char"
      ],
      "execution_count": null,
      "outputs": [
        {
          "output_type": "execute_result",
          "data": {
            "text/plain": [
              "27"
            ]
          },
          "metadata": {},
          "execution_count": 45
        }
      ]
    },
    {
      "cell_type": "code",
      "metadata": {
        "id": "WwPUGIEU3X2O"
      },
      "source": [
        "# these are just, well, spans of a document\n",
        "# think slices\n"
      ],
      "execution_count": null,
      "outputs": []
    },
    {
      "cell_type": "code",
      "metadata": {
        "id": "zrAcx_R45jdd"
      },
      "source": [
        "# many of the same elements apply\n"
      ],
      "execution_count": null,
      "outputs": []
    },
    {
      "cell_type": "code",
      "metadata": {
        "id": "KVhri61_5s0_"
      },
      "source": [
        "# why is this important?\n",
        "# a token, or span of tokens, could have meaning\n",
        "# Named Entity Recognition - NER\n",
        "\n"
      ],
      "execution_count": null,
      "outputs": []
    },
    {
      "cell_type": "code",
      "metadata": {
        "id": "1T01DR-pz6BH"
      },
      "source": [
        ""
      ],
      "execution_count": null,
      "outputs": []
    },
    {
      "cell_type": "markdown",
      "metadata": {
        "id": "Gl30NKI8z57W"
      },
      "source": [
        "# Named Entity Recognition (NER)"
      ]
    },
    {
      "cell_type": "code",
      "metadata": {
        "id": "7k9f7liJ6Dl9"
      },
      "source": [
        "#######################################  Named Entity Recognition\n",
        "## \n",
        "## We have seen regex can be very powerful\n",
        "## not only can we tokenize data, but we COULD use it to parse patterns\n",
        "##\n",
        "## HOWEVER:  the spacy parsing has already trained a GENERALIZED model for us\n",
        "##           lets start there! But note, based on certain tasks, spacy is near/at SOTA\n",
        "## \n",
        "## https://spacy.io/usage/linguistic-features#named-entities\n",
        "## \n",
        "## Why does this matter?\n",
        "## - we have large corpora and want to extract the entities being discussed\n",
        "## - think legal documents -  which people/organizations are involved\n",
        "## - news organizations tagging/categorizing articles to compare across all articles\n",
        "## - content recommendations - other texts including this entity/entities\n",
        "## - customer support - which products/services are our customers reference in service requests\n",
        "## - medical - illnesses or diseases per medical intake forms\n",
        "## - hiring/scanning: skill detection, experience detection\n",
        "## - product names/ids"
      ],
      "execution_count": null,
      "outputs": []
    },
    {
      "cell_type": "markdown",
      "metadata": {
        "id": "BCUgkl2ZOIv5"
      },
      "source": [
        "Spacy trained entities.\n",
        "\n",
        "```\n",
        "PERSON:      People, including fictional.\n",
        "NORP:        Nationalities or religious or political groups.\n",
        "FAC:         Buildings, airports, highways, bridges, etc.\n",
        "ORG:         Companies, agencies, institutions, etc.\n",
        "GPE:         Countries, cities, states.\n",
        "LOC:         Non-GPE locations, mountain ranges, bodies of water.\n",
        "PRODUCT:     Objects, vehicles, foods, etc. (Not services.)\n",
        "EVENT:       Named hurricanes, battles, wars, sports events, etc.\n",
        "WORK_OF_ART: Titles of books, songs, etc.\n",
        "LAW:         Named documents made into laws.\n",
        "LANGUAGE:    Any named language.\n",
        "DATE:        Absolute or relative dates or periods.\n",
        "TIME:        Times smaller than a day.\n",
        "PERCENT:     Percentage, including ”%“.\n",
        "MONEY:       Monetary values, including unit.\n",
        "QUANTITY:    Measurements, as of weight or distance.\n",
        "ORDINAL:     “first”, “second”, etc.\n",
        "CARDINAL:    Numerals that do not fall under another type.\n",
        "```\n",
        "\n",
        "> https://towardsdatascience.com/explorations-in-named-entity-recognition-and-was-eleanor-roosevelt-right-671271117218"
      ]
    },
    {
      "cell_type": "code",
      "metadata": {
        "id": "6i_U_cxE6URy"
      },
      "source": [
        ""
      ],
      "execution_count": null,
      "outputs": []
    },
    {
      "cell_type": "code",
      "metadata": {
        "id": "DdiwcfXS6at_",
        "colab": {
          "base_uri": "https://localhost:8080/"
        },
        "outputId": "3d5b2823-d4be-4af9-907d-f7caf4e0273b"
      },
      "source": [
        "msg = 'Questrom is a business school at Boston University located in Massachusetts'\n",
        "\n",
        "doc = nlp(msg)\n",
        "\n",
        "doc"
      ],
      "execution_count": null,
      "outputs": [
        {
          "output_type": "execute_result",
          "data": {
            "text/plain": [
              "Questrom is a business school at Boston University located in Massachusetts"
            ]
          },
          "metadata": {},
          "execution_count": 47
        }
      ]
    },
    {
      "cell_type": "code",
      "metadata": {
        "id": "8QVQt79Z6ph1",
        "colab": {
          "base_uri": "https://localhost:8080/"
        },
        "outputId": "cd29c3e7-a07f-43e4-ea43-b9f20d08e952"
      },
      "source": [
        "# 'basic' python still applies\n",
        "doc.ents"
      ],
      "execution_count": null,
      "outputs": [
        {
          "output_type": "execute_result",
          "data": {
            "text/plain": [
              "(Boston University, Massachusetts)"
            ]
          },
          "metadata": {},
          "execution_count": 48
        }
      ]
    },
    {
      "cell_type": "code",
      "metadata": {
        "id": "ylmgdBW76naq",
        "colab": {
          "base_uri": "https://localhost:8080/"
        },
        "outputId": "4ea0c361-672c-45e6-dc64-54ebd6eabbbc"
      },
      "source": [
        "# we can grab these out\n",
        "ent = doc.ents\n",
        "\n",
        "ent0 = ent[0]\n",
        "\n",
        "ent0"
      ],
      "execution_count": null,
      "outputs": [
        {
          "output_type": "execute_result",
          "data": {
            "text/plain": [
              "Boston University"
            ]
          },
          "metadata": {},
          "execution_count": 49
        }
      ]
    },
    {
      "cell_type": "code",
      "metadata": {
        "id": "bTSParUl6zEv",
        "colab": {
          "base_uri": "https://localhost:8080/"
        },
        "outputId": "43f81a3a-d639-441a-db6f-17278f4682cb"
      },
      "source": [
        "# these have properties/attributes\n",
        "type(ent0)"
      ],
      "execution_count": null,
      "outputs": [
        {
          "output_type": "execute_result",
          "data": {
            "text/plain": [
              "spacy.tokens.span.Span"
            ]
          },
          "metadata": {},
          "execution_count": 50
        }
      ]
    },
    {
      "cell_type": "code",
      "metadata": {
        "id": "WAdLcqf1dSTi",
        "colab": {
          "base_uri": "https://localhost:8080/"
        },
        "outputId": "d90b85d3-f290-496a-d1c8-5f59c119c0f4"
      },
      "source": [
        "ent0.end_char"
      ],
      "execution_count": null,
      "outputs": [
        {
          "output_type": "execute_result",
          "data": {
            "text/plain": [
              "50"
            ]
          },
          "metadata": {},
          "execution_count": 54
        }
      ]
    },
    {
      "cell_type": "code",
      "metadata": {
        "id": "9lUgAFtDdcjj",
        "colab": {
          "base_uri": "https://localhost:8080/",
          "height": 35
        },
        "outputId": "f65c875a-b52e-44a1-bf75-85382f722c84"
      },
      "source": [
        "ent0.label_"
      ],
      "execution_count": null,
      "outputs": [
        {
          "output_type": "execute_result",
          "data": {
            "application/vnd.google.colaboratory.intrinsic+json": {
              "type": "string"
            },
            "text/plain": [
              "'ORG'"
            ]
          },
          "metadata": {},
          "execution_count": 59
        }
      ]
    },
    {
      "cell_type": "code",
      "metadata": {
        "id": "qi3wrztf7Dg7",
        "colab": {
          "base_uri": "https://localhost:8080/",
          "height": 35
        },
        "outputId": "2beaf0ac-9bdd-4e45-c4cc-be64bc91eb1e"
      },
      "source": [
        "# remember explain?\n",
        "spacy.explain('ORG')"
      ],
      "execution_count": null,
      "outputs": [
        {
          "output_type": "execute_result",
          "data": {
            "application/vnd.google.colaboratory.intrinsic+json": {
              "type": "string"
            },
            "text/plain": [
              "'Companies, agencies, institutions, etc.'"
            ]
          },
          "metadata": {},
          "execution_count": 55
        }
      ]
    },
    {
      "cell_type": "code",
      "metadata": {
        "id": "Smgo5ps96cx9",
        "colab": {
          "base_uri": "https://localhost:8080/",
          "height": 52
        },
        "outputId": "8ca41212-47bd-40bb-c078-a9cef05776a2"
      },
      "source": [
        "# there is a visualizer too\n",
        "# of course, we can visualize this.  spacy is the bees knees\n",
        "\n",
        "displacy.render(doc, style=\"ent\", jupyter=True)\n",
        "\n",
        "# or in vs code -- localhost:5000\n",
        "# displacy.serve(doc, style=\"ent\")"
      ],
      "execution_count": null,
      "outputs": [
        {
          "output_type": "display_data",
          "data": {
            "text/html": [
              "<span class=\"tex2jax_ignore\"><div class=\"entities\" style=\"line-height: 2.5; direction: ltr\">Questrom is a business school at \n",
              "<mark class=\"entity\" style=\"background: #7aecec; padding: 0.45em 0.6em; margin: 0 0.25em; line-height: 1; border-radius: 0.35em;\">\n",
              "    Boston University\n",
              "    <span style=\"font-size: 0.8em; font-weight: bold; line-height: 1; border-radius: 0.35em; vertical-align: middle; margin-left: 0.5rem\">ORG</span>\n",
              "</mark>\n",
              " located in \n",
              "<mark class=\"entity\" style=\"background: #feca74; padding: 0.45em 0.6em; margin: 0 0.25em; line-height: 1; border-radius: 0.35em;\">\n",
              "    Massachusetts\n",
              "    <span style=\"font-size: 0.8em; font-weight: bold; line-height: 1; border-radius: 0.35em; vertical-align: middle; margin-left: 0.5rem\">GPE</span>\n",
              "</mark>\n",
              "</div></span>"
            ],
            "text/plain": [
              "<IPython.core.display.HTML object>"
            ]
          },
          "metadata": {}
        }
      ]
    },
    {
      "cell_type": "code",
      "metadata": {
        "id": "ljxZSGnG6lN_",
        "colab": {
          "base_uri": "https://localhost:8080/"
        },
        "outputId": "c1c883e2-fd55-40d5-84c8-f885b8c53316"
      },
      "source": [
        "# NER isn't perfect as we just saw\n",
        "# another example\n",
        "\n",
        "corpus = [\"Let's go to the store\", \"I enjoy programming in the language go\"]\n",
        "\n",
        "goents = []\n",
        "for d in corpus:\n",
        "  doc = nlp(d)\n",
        "  for ent in doc.ents:\n",
        "    goents.append((ent.text, ent.label_)) \n",
        "\n",
        "goents\n"
      ],
      "execution_count": null,
      "outputs": [
        {
          "output_type": "execute_result",
          "data": {
            "text/plain": [
              "[]"
            ]
          },
          "metadata": {},
          "execution_count": 60
        }
      ]
    },
    {
      "cell_type": "code",
      "metadata": {
        "id": "g-IKQhoJ6mZM"
      },
      "source": [
        ""
      ],
      "execution_count": null,
      "outputs": []
    },
    {
      "cell_type": "code",
      "metadata": {
        "id": "i2ogi9WzOC-V"
      },
      "source": [
        ""
      ],
      "execution_count": null,
      "outputs": []
    },
    {
      "cell_type": "code",
      "metadata": {
        "id": "fibYKJOvuiYj"
      },
      "source": [
        "#######################################  YOUR TURN\n",
        "##\n",
        "## parse the article at the URL below\n",
        "## trick: consider this a document, not a corpus\n",
        "## extract the entities like we have above into a list\n",
        "## visualize, if you can\n",
        "\n",
        "URL = \"https://www.lyrics.com/lyric/180684/Billy+Joel/We+Didn%27t+Start+the+Fire\"\n",
        "\n",
        "# HINT:  we have seen how easy the newspaper3k package makes extracting data from the web!\n",
        "# "
      ],
      "execution_count": null,
      "outputs": []
    },
    {
      "cell_type": "code",
      "metadata": {
        "id": "ivKGkodBuib5"
      },
      "source": [
        "from newspaper import Article\n",
        "article = Article(URL)"
      ],
      "execution_count": null,
      "outputs": []
    },
    {
      "cell_type": "code",
      "metadata": {
        "id": "pA4l1gG2qWSp"
      },
      "source": [
        "article.download()\n",
        "article.parse()\n",
        "song = article.text"
      ],
      "execution_count": null,
      "outputs": []
    },
    {
      "cell_type": "code",
      "metadata": {
        "id": "_7DEXxqVg_o7",
        "colab": {
          "base_uri": "https://localhost:8080/"
        },
        "outputId": "aa26e118-f210-4a9d-c3de-109aedde2174"
      },
      "source": [
        "# get the entities\n",
        "\n",
        "ents_song = []\n",
        "\n",
        "doc = nlp(song)\n",
        "\n",
        "for e in doc.ents:\n",
        "  ents_song.append((e.text, e.start_char, e.end_char, e.label_))\n",
        "\n",
        "ents_song[:10]"
      ],
      "execution_count": null,
      "outputs": [
        {
          "output_type": "execute_result",
          "data": {
            "text/plain": [
              "[('Harry Truman', 0, 12, 'PERSON'),\n",
              " ('Red China', 25, 34, 'ORG'),\n",
              " ('Johnnie Ray South Pacific', 36, 61, 'PERSON'),\n",
              " ('Walter Winchell', 63, 78, 'PERSON'),\n",
              " ('Joe DiMaggio Joe McCarthy', 80, 105, 'PERSON'),\n",
              " ('Richard Nixon', 107, 120, 'PERSON'),\n",
              " ('Studebaker', 122, 132, 'ORG'),\n",
              " ('North Korea', 145, 156, 'GPE'),\n",
              " ('South Korea', 158, 169, 'GPE'),\n",
              " ('Marilyn Monroe Rosenbergs', 171, 196, 'ORG')]"
            ]
          },
          "metadata": {},
          "execution_count": 81
        }
      ]
    },
    {
      "cell_type": "code",
      "metadata": {
        "id": "YWJ7OzypiAk-",
        "colab": {
          "base_uri": "https://localhost:8080/",
          "height": 1000
        },
        "outputId": "874c8ea2-c744-4ccf-92b1-475245bbe597"
      },
      "source": [
        "displacy.render(doc, style=\"ent\", jupyter=True)"
      ],
      "execution_count": null,
      "outputs": [
        {
          "output_type": "display_data",
          "data": {
            "text/html": [
              "<span class=\"tex2jax_ignore\"><div class=\"entities\" style=\"line-height: 2.5; direction: ltr\">\n",
              "<mark class=\"entity\" style=\"background: #aa9cfc; padding: 0.45em 0.6em; margin: 0 0.25em; line-height: 1; border-radius: 0.35em;\">\n",
              "    Harry Truman\n",
              "    <span style=\"font-size: 0.8em; font-weight: bold; line-height: 1; border-radius: 0.35em; vertical-align: middle; margin-left: 0.5rem\">PERSON</span>\n",
              "</mark>\n",
              ", Doris Day, \n",
              "<mark class=\"entity\" style=\"background: #7aecec; padding: 0.45em 0.6em; margin: 0 0.25em; line-height: 1; border-radius: 0.35em;\">\n",
              "    Red China\n",
              "    <span style=\"font-size: 0.8em; font-weight: bold; line-height: 1; border-radius: 0.35em; vertical-align: middle; margin-left: 0.5rem\">ORG</span>\n",
              "</mark>\n",
              ", \n",
              "<mark class=\"entity\" style=\"background: #aa9cfc; padding: 0.45em 0.6em; margin: 0 0.25em; line-height: 1; border-radius: 0.35em;\">\n",
              "    Johnnie Ray South Pacific\n",
              "    <span style=\"font-size: 0.8em; font-weight: bold; line-height: 1; border-radius: 0.35em; vertical-align: middle; margin-left: 0.5rem\">PERSON</span>\n",
              "</mark>\n",
              ", \n",
              "<mark class=\"entity\" style=\"background: #aa9cfc; padding: 0.45em 0.6em; margin: 0 0.25em; line-height: 1; border-radius: 0.35em;\">\n",
              "    Walter Winchell\n",
              "    <span style=\"font-size: 0.8em; font-weight: bold; line-height: 1; border-radius: 0.35em; vertical-align: middle; margin-left: 0.5rem\">PERSON</span>\n",
              "</mark>\n",
              ", \n",
              "<mark class=\"entity\" style=\"background: #aa9cfc; padding: 0.45em 0.6em; margin: 0 0.25em; line-height: 1; border-radius: 0.35em;\">\n",
              "    Joe DiMaggio Joe McCarthy\n",
              "    <span style=\"font-size: 0.8em; font-weight: bold; line-height: 1; border-radius: 0.35em; vertical-align: middle; margin-left: 0.5rem\">PERSON</span>\n",
              "</mark>\n",
              ", \n",
              "<mark class=\"entity\" style=\"background: #aa9cfc; padding: 0.45em 0.6em; margin: 0 0.25em; line-height: 1; border-radius: 0.35em;\">\n",
              "    Richard Nixon\n",
              "    <span style=\"font-size: 0.8em; font-weight: bold; line-height: 1; border-radius: 0.35em; vertical-align: middle; margin-left: 0.5rem\">PERSON</span>\n",
              "</mark>\n",
              ", \n",
              "<mark class=\"entity\" style=\"background: #7aecec; padding: 0.45em 0.6em; margin: 0 0.25em; line-height: 1; border-radius: 0.35em;\">\n",
              "    Studebaker\n",
              "    <span style=\"font-size: 0.8em; font-weight: bold; line-height: 1; border-radius: 0.35em; vertical-align: middle; margin-left: 0.5rem\">ORG</span>\n",
              "</mark>\n",
              ", television \n",
              "<mark class=\"entity\" style=\"background: #feca74; padding: 0.45em 0.6em; margin: 0 0.25em; line-height: 1; border-radius: 0.35em;\">\n",
              "    North Korea\n",
              "    <span style=\"font-size: 0.8em; font-weight: bold; line-height: 1; border-radius: 0.35em; vertical-align: middle; margin-left: 0.5rem\">GPE</span>\n",
              "</mark>\n",
              ", \n",
              "<mark class=\"entity\" style=\"background: #feca74; padding: 0.45em 0.6em; margin: 0 0.25em; line-height: 1; border-radius: 0.35em;\">\n",
              "    South Korea\n",
              "    <span style=\"font-size: 0.8em; font-weight: bold; line-height: 1; border-radius: 0.35em; vertical-align: middle; margin-left: 0.5rem\">GPE</span>\n",
              "</mark>\n",
              ", \n",
              "<mark class=\"entity\" style=\"background: #7aecec; padding: 0.45em 0.6em; margin: 0 0.25em; line-height: 1; border-radius: 0.35em;\">\n",
              "    Marilyn Monroe Rosenbergs\n",
              "    <span style=\"font-size: 0.8em; font-weight: bold; line-height: 1; border-radius: 0.35em; vertical-align: middle; margin-left: 0.5rem\">ORG</span>\n",
              "</mark>\n",
              ", H-bomb, \n",
              "<mark class=\"entity\" style=\"background: #aa9cfc; padding: 0.45em 0.6em; margin: 0 0.25em; line-height: 1; border-radius: 0.35em;\">\n",
              "    Sugar Ray\n",
              "    <span style=\"font-size: 0.8em; font-weight: bold; line-height: 1; border-radius: 0.35em; vertical-align: middle; margin-left: 0.5rem\">PERSON</span>\n",
              "</mark>\n",
              ", \n",
              "<mark class=\"entity\" style=\"background: #aa9cfc; padding: 0.45em 0.6em; margin: 0 0.25em; line-height: 1; border-radius: 0.35em;\">\n",
              "    Panmunjom Brando\n",
              "    <span style=\"font-size: 0.8em; font-weight: bold; line-height: 1; border-radius: 0.35em; vertical-align: middle; margin-left: 0.5rem\">PERSON</span>\n",
              "</mark>\n",
              ", &quot;\n",
              "<mark class=\"entity\" style=\"background: #f0d0ff; padding: 0.45em 0.6em; margin: 0 0.25em; line-height: 1; border-radius: 0.35em;\">\n",
              "    The King and I&quot; and &quot;The Catcher\n",
              "    <span style=\"font-size: 0.8em; font-weight: bold; line-height: 1; border-radius: 0.35em; vertical-align: middle; margin-left: 0.5rem\">WORK_OF_ART</span>\n",
              "</mark>\n",
              " in the Rye&quot; Eisenhower, vaccine, \n",
              "<mark class=\"entity\" style=\"background: #feca74; padding: 0.45em 0.6em; margin: 0 0.25em; line-height: 1; border-radius: 0.35em;\">\n",
              "    England\n",
              "    <span style=\"font-size: 0.8em; font-weight: bold; line-height: 1; border-radius: 0.35em; vertical-align: middle; margin-left: 0.5rem\">GPE</span>\n",
              "</mark>\n",
              "'s got a new queen \n",
              "<mark class=\"entity\" style=\"background: #aa9cfc; padding: 0.45em 0.6em; margin: 0 0.25em; line-height: 1; border-radius: 0.35em;\">\n",
              "    Marciano\n",
              "    <span style=\"font-size: 0.8em; font-weight: bold; line-height: 1; border-radius: 0.35em; vertical-align: middle; margin-left: 0.5rem\">PERSON</span>\n",
              "</mark>\n",
              ", \n",
              "<mark class=\"entity\" style=\"background: #7aecec; padding: 0.45em 0.6em; margin: 0 0.25em; line-height: 1; border-radius: 0.35em;\">\n",
              "    Liberace\n",
              "    <span style=\"font-size: 0.8em; font-weight: bold; line-height: 1; border-radius: 0.35em; vertical-align: middle; margin-left: 0.5rem\">ORG</span>\n",
              "</mark>\n",
              ", \n",
              "<mark class=\"entity\" style=\"background: #aa9cfc; padding: 0.45em 0.6em; margin: 0 0.25em; line-height: 1; border-radius: 0.35em;\">\n",
              "    Santayana\n",
              "    <span style=\"font-size: 0.8em; font-weight: bold; line-height: 1; border-radius: 0.35em; vertical-align: middle; margin-left: 0.5rem\">PERSON</span>\n",
              "</mark>\n",
              " goodbye We didn't start the fire It was always burning Since the world's been turning We didn't start the fire No we didn't light it But we tried to fight it \n",
              "<mark class=\"entity\" style=\"background: #aa9cfc; padding: 0.45em 0.6em; margin: 0 0.25em; line-height: 1; border-radius: 0.35em;\">\n",
              "    Joseph Stalin\n",
              "    <span style=\"font-size: 0.8em; font-weight: bold; line-height: 1; border-radius: 0.35em; vertical-align: middle; margin-left: 0.5rem\">PERSON</span>\n",
              "</mark>\n",
              ", \n",
              "<mark class=\"entity\" style=\"background: #aa9cfc; padding: 0.45em 0.6em; margin: 0 0.25em; line-height: 1; border-radius: 0.35em;\">\n",
              "    Malenkov\n",
              "    <span style=\"font-size: 0.8em; font-weight: bold; line-height: 1; border-radius: 0.35em; vertical-align: middle; margin-left: 0.5rem\">PERSON</span>\n",
              "</mark>\n",
              ", \n",
              "<mark class=\"entity\" style=\"background: #aa9cfc; padding: 0.45em 0.6em; margin: 0 0.25em; line-height: 1; border-radius: 0.35em;\">\n",
              "    Nasser\n",
              "    <span style=\"font-size: 0.8em; font-weight: bold; line-height: 1; border-radius: 0.35em; vertical-align: middle; margin-left: 0.5rem\">PERSON</span>\n",
              "</mark>\n",
              " and \n",
              "<mark class=\"entity\" style=\"background: #aa9cfc; padding: 0.45em 0.6em; margin: 0 0.25em; line-height: 1; border-radius: 0.35em;\">\n",
              "    Prokofiev Rockefeller\n",
              "    <span style=\"font-size: 0.8em; font-weight: bold; line-height: 1; border-radius: 0.35em; vertical-align: middle; margin-left: 0.5rem\">PERSON</span>\n",
              "</mark>\n",
              ", \n",
              "<mark class=\"entity\" style=\"background: #aa9cfc; padding: 0.45em 0.6em; margin: 0 0.25em; line-height: 1; border-radius: 0.35em;\">\n",
              "    Campanella\n",
              "    <span style=\"font-size: 0.8em; font-weight: bold; line-height: 1; border-radius: 0.35em; vertical-align: middle; margin-left: 0.5rem\">PERSON</span>\n",
              "</mark>\n",
              ", \n",
              "<mark class=\"entity\" style=\"background: #c887fb; padding: 0.45em 0.6em; margin: 0 0.25em; line-height: 1; border-radius: 0.35em;\">\n",
              "    Communist\n",
              "    <span style=\"font-size: 0.8em; font-weight: bold; line-height: 1; border-radius: 0.35em; vertical-align: middle; margin-left: 0.5rem\">NORP</span>\n",
              "</mark>\n",
              " Bloc \n",
              "<mark class=\"entity\" style=\"background: #aa9cfc; padding: 0.45em 0.6em; margin: 0 0.25em; line-height: 1; border-radius: 0.35em;\">\n",
              "    Roy Cohn\n",
              "    <span style=\"font-size: 0.8em; font-weight: bold; line-height: 1; border-radius: 0.35em; vertical-align: middle; margin-left: 0.5rem\">PERSON</span>\n",
              "</mark>\n",
              ", \n",
              "<mark class=\"entity\" style=\"background: #aa9cfc; padding: 0.45em 0.6em; margin: 0 0.25em; line-height: 1; border-radius: 0.35em;\">\n",
              "    Juan Peron\n",
              "    <span style=\"font-size: 0.8em; font-weight: bold; line-height: 1; border-radius: 0.35em; vertical-align: middle; margin-left: 0.5rem\">PERSON</span>\n",
              "</mark>\n",
              ", \n",
              "<mark class=\"entity\" style=\"background: #feca74; padding: 0.45em 0.6em; margin: 0 0.25em; line-height: 1; border-radius: 0.35em;\">\n",
              "    Toscanini\n",
              "    <span style=\"font-size: 0.8em; font-weight: bold; line-height: 1; border-radius: 0.35em; vertical-align: middle; margin-left: 0.5rem\">GPE</span>\n",
              "</mark>\n",
              ", \n",
              "<mark class=\"entity\" style=\"background: #aa9cfc; padding: 0.45em 0.6em; margin: 0 0.25em; line-height: 1; border-radius: 0.35em;\">\n",
              "    Dacron Dien Bien Phu\n",
              "    <span style=\"font-size: 0.8em; font-weight: bold; line-height: 1; border-radius: 0.35em; vertical-align: middle; margin-left: 0.5rem\">PERSON</span>\n",
              "</mark>\n",
              " falls, &quot;\n",
              "<mark class=\"entity\" style=\"background: #f0d0ff; padding: 0.45em 0.6em; margin: 0 0.25em; line-height: 1; border-radius: 0.35em;\">\n",
              "    Rock Around the Clock\n",
              "    <span style=\"font-size: 0.8em; font-weight: bold; line-height: 1; border-radius: 0.35em; vertical-align: middle; margin-left: 0.5rem\">WORK_OF_ART</span>\n",
              "</mark>\n",
              "&quot; Einstein, \n",
              "<mark class=\"entity\" style=\"background: #aa9cfc; padding: 0.45em 0.6em; margin: 0 0.25em; line-height: 1; border-radius: 0.35em;\">\n",
              "    James Dean\n",
              "    <span style=\"font-size: 0.8em; font-weight: bold; line-height: 1; border-radius: 0.35em; vertical-align: middle; margin-left: 0.5rem\">PERSON</span>\n",
              "</mark>\n",
              ", \n",
              "<mark class=\"entity\" style=\"background: #feca74; padding: 0.45em 0.6em; margin: 0 0.25em; line-height: 1; border-radius: 0.35em;\">\n",
              "    Brooklyn\n",
              "    <span style=\"font-size: 0.8em; font-weight: bold; line-height: 1; border-radius: 0.35em; vertical-align: middle; margin-left: 0.5rem\">GPE</span>\n",
              "</mark>\n",
              "'s got a winning team \n",
              "<mark class=\"entity\" style=\"background: #aa9cfc; padding: 0.45em 0.6em; margin: 0 0.25em; line-height: 1; border-radius: 0.35em;\">\n",
              "    Davy Crockett\n",
              "    <span style=\"font-size: 0.8em; font-weight: bold; line-height: 1; border-radius: 0.35em; vertical-align: middle; margin-left: 0.5rem\">PERSON</span>\n",
              "</mark>\n",
              ", \n",
              "<mark class=\"entity\" style=\"background: #aa9cfc; padding: 0.45em 0.6em; margin: 0 0.25em; line-height: 1; border-radius: 0.35em;\">\n",
              "    Peter Pan\n",
              "    <span style=\"font-size: 0.8em; font-weight: bold; line-height: 1; border-radius: 0.35em; vertical-align: middle; margin-left: 0.5rem\">PERSON</span>\n",
              "</mark>\n",
              ", \n",
              "<mark class=\"entity\" style=\"background: #aa9cfc; padding: 0.45em 0.6em; margin: 0 0.25em; line-height: 1; border-radius: 0.35em;\">\n",
              "    Elvis Presley\n",
              "    <span style=\"font-size: 0.8em; font-weight: bold; line-height: 1; border-radius: 0.35em; vertical-align: middle; margin-left: 0.5rem\">PERSON</span>\n",
              "</mark>\n",
              ", \n",
              "<mark class=\"entity\" style=\"background: #aa9cfc; padding: 0.45em 0.6em; margin: 0 0.25em; line-height: 1; border-radius: 0.35em;\">\n",
              "    Disneyland Bardot\n",
              "    <span style=\"font-size: 0.8em; font-weight: bold; line-height: 1; border-radius: 0.35em; vertical-align: middle; margin-left: 0.5rem\">PERSON</span>\n",
              "</mark>\n",
              ", \n",
              "<mark class=\"entity\" style=\"background: #feca74; padding: 0.45em 0.6em; margin: 0 0.25em; line-height: 1; border-radius: 0.35em;\">\n",
              "    Budapest\n",
              "    <span style=\"font-size: 0.8em; font-weight: bold; line-height: 1; border-radius: 0.35em; vertical-align: middle; margin-left: 0.5rem\">GPE</span>\n",
              "</mark>\n",
              ", \n",
              "<mark class=\"entity\" style=\"background: #feca74; padding: 0.45em 0.6em; margin: 0 0.25em; line-height: 1; border-radius: 0.35em;\">\n",
              "    Alabama\n",
              "    <span style=\"font-size: 0.8em; font-weight: bold; line-height: 1; border-radius: 0.35em; vertical-align: middle; margin-left: 0.5rem\">GPE</span>\n",
              "</mark>\n",
              ", \n",
              "<mark class=\"entity\" style=\"background: #ddd; padding: 0.45em 0.6em; margin: 0 0.25em; line-height: 1; border-radius: 0.35em;\">\n",
              "    Krushchev Princess Grace\n",
              "    <span style=\"font-size: 0.8em; font-weight: bold; line-height: 1; border-radius: 0.35em; vertical-align: middle; margin-left: 0.5rem\">FAC</span>\n",
              "</mark>\n",
              ", &quot;\n",
              "<mark class=\"entity\" style=\"background: #f0d0ff; padding: 0.45em 0.6em; margin: 0 0.25em; line-height: 1; border-radius: 0.35em;\">\n",
              "    Peyton Place\n",
              "    <span style=\"font-size: 0.8em; font-weight: bold; line-height: 1; border-radius: 0.35em; vertical-align: middle; margin-left: 0.5rem\">WORK_OF_ART</span>\n",
              "</mark>\n",
              "&quot;, trouble in the \n",
              "<mark class=\"entity\" style=\"background: #ff9561; padding: 0.45em 0.6em; margin: 0 0.25em; line-height: 1; border-radius: 0.35em;\">\n",
              "    Suez\n",
              "    <span style=\"font-size: 0.8em; font-weight: bold; line-height: 1; border-radius: 0.35em; vertical-align: middle; margin-left: 0.5rem\">LOC</span>\n",
              "</mark>\n",
              " We didn't start the fire It was always burning Since the world's been turning We didn't start the fire No we didn't light it But we tried to fight it \n",
              "<mark class=\"entity\" style=\"background: #feca74; padding: 0.45em 0.6em; margin: 0 0.25em; line-height: 1; border-radius: 0.35em;\">\n",
              "    Little Rock\n",
              "    <span style=\"font-size: 0.8em; font-weight: bold; line-height: 1; border-radius: 0.35em; vertical-align: middle; margin-left: 0.5rem\">GPE</span>\n",
              "</mark>\n",
              ", Pasternak, \n",
              "<mark class=\"entity\" style=\"background: #aa9cfc; padding: 0.45em 0.6em; margin: 0 0.25em; line-height: 1; border-radius: 0.35em;\">\n",
              "    Mickey Mantle\n",
              "    <span style=\"font-size: 0.8em; font-weight: bold; line-height: 1; border-radius: 0.35em; vertical-align: middle; margin-left: 0.5rem\">PERSON</span>\n",
              "</mark>\n",
              ", \n",
              "<mark class=\"entity\" style=\"background: #aa9cfc; padding: 0.45em 0.6em; margin: 0 0.25em; line-height: 1; border-radius: 0.35em;\">\n",
              "    Kerouac Sputnik\n",
              "    <span style=\"font-size: 0.8em; font-weight: bold; line-height: 1; border-radius: 0.35em; vertical-align: middle; margin-left: 0.5rem\">PERSON</span>\n",
              "</mark>\n",
              ", \n",
              "<mark class=\"entity\" style=\"background: #aa9cfc; padding: 0.45em 0.6em; margin: 0 0.25em; line-height: 1; border-radius: 0.35em;\">\n",
              "    Chou En-Lai\n",
              "    <span style=\"font-size: 0.8em; font-weight: bold; line-height: 1; border-radius: 0.35em; vertical-align: middle; margin-left: 0.5rem\">PERSON</span>\n",
              "</mark>\n",
              ", &quot;\n",
              "<mark class=\"entity\" style=\"background: #f0d0ff; padding: 0.45em 0.6em; margin: 0 0.25em; line-height: 1; border-radius: 0.35em;\">\n",
              "    Bridge on the River Kwai\n",
              "    <span style=\"font-size: 0.8em; font-weight: bold; line-height: 1; border-radius: 0.35em; vertical-align: middle; margin-left: 0.5rem\">WORK_OF_ART</span>\n",
              "</mark>\n",
              "&quot; \n",
              "<mark class=\"entity\" style=\"background: #feca74; padding: 0.45em 0.6em; margin: 0 0.25em; line-height: 1; border-radius: 0.35em;\">\n",
              "    Lebanon\n",
              "    <span style=\"font-size: 0.8em; font-weight: bold; line-height: 1; border-radius: 0.35em; vertical-align: middle; margin-left: 0.5rem\">GPE</span>\n",
              "</mark>\n",
              ", \n",
              "<mark class=\"entity\" style=\"background: #7aecec; padding: 0.45em 0.6em; margin: 0 0.25em; line-height: 1; border-radius: 0.35em;\">\n",
              "    Charlse de Gaulle\n",
              "    <span style=\"font-size: 0.8em; font-weight: bold; line-height: 1; border-radius: 0.35em; vertical-align: middle; margin-left: 0.5rem\">ORG</span>\n",
              "</mark>\n",
              ", \n",
              "<mark class=\"entity\" style=\"background: #feca74; padding: 0.45em 0.6em; margin: 0 0.25em; line-height: 1; border-radius: 0.35em;\">\n",
              "    California\n",
              "    <span style=\"font-size: 0.8em; font-weight: bold; line-height: 1; border-radius: 0.35em; vertical-align: middle; margin-left: 0.5rem\">GPE</span>\n",
              "</mark>\n",
              " baseball \n",
              "<mark class=\"entity\" style=\"background: #aa9cfc; padding: 0.45em 0.6em; margin: 0 0.25em; line-height: 1; border-radius: 0.35em;\">\n",
              "    Starkweather\n",
              "    <span style=\"font-size: 0.8em; font-weight: bold; line-height: 1; border-radius: 0.35em; vertical-align: middle; margin-left: 0.5rem\">PERSON</span>\n",
              "</mark>\n",
              ", homicide, children of thalidomide \n",
              "<mark class=\"entity\" style=\"background: #aa9cfc; padding: 0.45em 0.6em; margin: 0 0.25em; line-height: 1; border-radius: 0.35em;\">\n",
              "    Buddy Holly\n",
              "    <span style=\"font-size: 0.8em; font-weight: bold; line-height: 1; border-radius: 0.35em; vertical-align: middle; margin-left: 0.5rem\">PERSON</span>\n",
              "</mark>\n",
              ", &quot;\n",
              "<mark class=\"entity\" style=\"background: #aa9cfc; padding: 0.45em 0.6em; margin: 0 0.25em; line-height: 1; border-radius: 0.35em;\">\n",
              "    Ben Hur\n",
              "    <span style=\"font-size: 0.8em; font-weight: bold; line-height: 1; border-radius: 0.35em; vertical-align: middle; margin-left: 0.5rem\">PERSON</span>\n",
              "</mark>\n",
              "&quot;, space monkey, \n",
              "<mark class=\"entity\" style=\"background: #7aecec; padding: 0.45em 0.6em; margin: 0 0.25em; line-height: 1; border-radius: 0.35em;\">\n",
              "    Mafia Hula\n",
              "    <span style=\"font-size: 0.8em; font-weight: bold; line-height: 1; border-radius: 0.35em; vertical-align: middle; margin-left: 0.5rem\">ORG</span>\n",
              "</mark>\n",
              " hoops, \n",
              "<mark class=\"entity\" style=\"background: #aa9cfc; padding: 0.45em 0.6em; margin: 0 0.25em; line-height: 1; border-radius: 0.35em;\">\n",
              "    Castro\n",
              "    <span style=\"font-size: 0.8em; font-weight: bold; line-height: 1; border-radius: 0.35em; vertical-align: middle; margin-left: 0.5rem\">PERSON</span>\n",
              "</mark>\n",
              ", \n",
              "<mark class=\"entity\" style=\"background: #7aecec; padding: 0.45em 0.6em; margin: 0 0.25em; line-height: 1; border-radius: 0.35em;\">\n",
              "    Edsel\n",
              "    <span style=\"font-size: 0.8em; font-weight: bold; line-height: 1; border-radius: 0.35em; vertical-align: middle; margin-left: 0.5rem\">ORG</span>\n",
              "</mark>\n",
              " is a no-go \n",
              "<mark class=\"entity\" style=\"background: #bfe1d9; padding: 0.45em 0.6em; margin: 0 0.25em; line-height: 1; border-radius: 0.35em;\">\n",
              "    U2\n",
              "    <span style=\"font-size: 0.8em; font-weight: bold; line-height: 1; border-radius: 0.35em; vertical-align: middle; margin-left: 0.5rem\">DATE</span>\n",
              "</mark>\n",
              ", \n",
              "<mark class=\"entity\" style=\"background: #7aecec; padding: 0.45em 0.6em; margin: 0 0.25em; line-height: 1; border-radius: 0.35em;\">\n",
              "    Syngman Rhee\n",
              "    <span style=\"font-size: 0.8em; font-weight: bold; line-height: 1; border-radius: 0.35em; vertical-align: middle; margin-left: 0.5rem\">ORG</span>\n",
              "</mark>\n",
              ", payola and \n",
              "<mark class=\"entity\" style=\"background: #aa9cfc; padding: 0.45em 0.6em; margin: 0 0.25em; line-height: 1; border-radius: 0.35em;\">\n",
              "    Kennedy Chubby Checker\n",
              "    <span style=\"font-size: 0.8em; font-weight: bold; line-height: 1; border-radius: 0.35em; vertical-align: middle; margin-left: 0.5rem\">PERSON</span>\n",
              "</mark>\n",
              ", &quot;Psycho&quot;, \n",
              "<mark class=\"entity\" style=\"background: #c887fb; padding: 0.45em 0.6em; margin: 0 0.25em; line-height: 1; border-radius: 0.35em;\">\n",
              "    Belgians\n",
              "    <span style=\"font-size: 0.8em; font-weight: bold; line-height: 1; border-radius: 0.35em; vertical-align: middle; margin-left: 0.5rem\">NORP</span>\n",
              "</mark>\n",
              " in the \n",
              "<mark class=\"entity\" style=\"background: #feca74; padding: 0.45em 0.6em; margin: 0 0.25em; line-height: 1; border-radius: 0.35em;\">\n",
              "    Congo\n",
              "    <span style=\"font-size: 0.8em; font-weight: bold; line-height: 1; border-radius: 0.35em; vertical-align: middle; margin-left: 0.5rem\">GPE</span>\n",
              "</mark>\n",
              " We didn't start the fire It was always burning Since the world's been turning We didn't start the fire No we didn't light it But we tried to fight it \n",
              "<mark class=\"entity\" style=\"background: #aa9cfc; padding: 0.45em 0.6em; margin: 0 0.25em; line-height: 1; border-radius: 0.35em;\">\n",
              "    Hemingway\n",
              "    <span style=\"font-size: 0.8em; font-weight: bold; line-height: 1; border-radius: 0.35em; vertical-align: middle; margin-left: 0.5rem\">PERSON</span>\n",
              "</mark>\n",
              ", \n",
              "<mark class=\"entity\" style=\"background: #aa9cfc; padding: 0.45em 0.6em; margin: 0 0.25em; line-height: 1; border-radius: 0.35em;\">\n",
              "    Eichmann\n",
              "    <span style=\"font-size: 0.8em; font-weight: bold; line-height: 1; border-radius: 0.35em; vertical-align: middle; margin-left: 0.5rem\">PERSON</span>\n",
              "</mark>\n",
              ", &quot;\n",
              "<mark class=\"entity\" style=\"background: #f0d0ff; padding: 0.45em 0.6em; margin: 0 0.25em; line-height: 1; border-radius: 0.35em;\">\n",
              "    Stranger in a Strange Land&quot; Dylan,\n",
              "    <span style=\"font-size: 0.8em; font-weight: bold; line-height: 1; border-radius: 0.35em; vertical-align: middle; margin-left: 0.5rem\">WORK_OF_ART</span>\n",
              "</mark>\n",
              " \n",
              "<mark class=\"entity\" style=\"background: #feca74; padding: 0.45em 0.6em; margin: 0 0.25em; line-height: 1; border-radius: 0.35em;\">\n",
              "    Berlin\n",
              "    <span style=\"font-size: 0.8em; font-weight: bold; line-height: 1; border-radius: 0.35em; vertical-align: middle; margin-left: 0.5rem\">GPE</span>\n",
              "</mark>\n",
              ", \n",
              "<mark class=\"entity\" style=\"background: #ff9561; padding: 0.45em 0.6em; margin: 0 0.25em; line-height: 1; border-radius: 0.35em;\">\n",
              "    Bay of Pigs\n",
              "    <span style=\"font-size: 0.8em; font-weight: bold; line-height: 1; border-radius: 0.35em; vertical-align: middle; margin-left: 0.5rem\">LOC</span>\n",
              "</mark>\n",
              " invasion &quot;Lawrence of \n",
              "<mark class=\"entity\" style=\"background: #feca74; padding: 0.45em 0.6em; margin: 0 0.25em; line-height: 1; border-radius: 0.35em;\">\n",
              "    Arabia\n",
              "    <span style=\"font-size: 0.8em; font-weight: bold; line-height: 1; border-radius: 0.35em; vertical-align: middle; margin-left: 0.5rem\">GPE</span>\n",
              "</mark>\n",
              "&quot;, \n",
              "<mark class=\"entity\" style=\"background: #c887fb; padding: 0.45em 0.6em; margin: 0 0.25em; line-height: 1; border-radius: 0.35em;\">\n",
              "    British\n",
              "    <span style=\"font-size: 0.8em; font-weight: bold; line-height: 1; border-radius: 0.35em; vertical-align: middle; margin-left: 0.5rem\">NORP</span>\n",
              "</mark>\n",
              " \n",
              "<mark class=\"entity\" style=\"background: #aa9cfc; padding: 0.45em 0.6em; margin: 0 0.25em; line-height: 1; border-radius: 0.35em;\">\n",
              "    Beatlemania Ole Miss\n",
              "    <span style=\"font-size: 0.8em; font-weight: bold; line-height: 1; border-radius: 0.35em; vertical-align: middle; margin-left: 0.5rem\">PERSON</span>\n",
              "</mark>\n",
              ", \n",
              "<mark class=\"entity\" style=\"background: #aa9cfc; padding: 0.45em 0.6em; margin: 0 0.25em; line-height: 1; border-radius: 0.35em;\">\n",
              "    John Glenn\n",
              "    <span style=\"font-size: 0.8em; font-weight: bold; line-height: 1; border-radius: 0.35em; vertical-align: middle; margin-left: 0.5rem\">PERSON</span>\n",
              "</mark>\n",
              ", \n",
              "<mark class=\"entity\" style=\"background: #aa9cfc; padding: 0.45em 0.6em; margin: 0 0.25em; line-height: 1; border-radius: 0.35em;\">\n",
              "    Liston\n",
              "    <span style=\"font-size: 0.8em; font-weight: bold; line-height: 1; border-radius: 0.35em; vertical-align: middle; margin-left: 0.5rem\">PERSON</span>\n",
              "</mark>\n",
              " beats \n",
              "<mark class=\"entity\" style=\"background: #aa9cfc; padding: 0.45em 0.6em; margin: 0 0.25em; line-height: 1; border-radius: 0.35em;\">\n",
              "    Patterson Pope Paul\n",
              "    <span style=\"font-size: 0.8em; font-weight: bold; line-height: 1; border-radius: 0.35em; vertical-align: middle; margin-left: 0.5rem\">PERSON</span>\n",
              "</mark>\n",
              ", \n",
              "<mark class=\"entity\" style=\"background: #aa9cfc; padding: 0.45em 0.6em; margin: 0 0.25em; line-height: 1; border-radius: 0.35em;\">\n",
              "    Malcolm X\n",
              "    <span style=\"font-size: 0.8em; font-weight: bold; line-height: 1; border-radius: 0.35em; vertical-align: middle; margin-left: 0.5rem\">PERSON</span>\n",
              "</mark>\n",
              ", \n",
              "<mark class=\"entity\" style=\"background: #c887fb; padding: 0.45em 0.6em; margin: 0 0.25em; line-height: 1; border-radius: 0.35em;\">\n",
              "    British\n",
              "    <span style=\"font-size: 0.8em; font-weight: bold; line-height: 1; border-radius: 0.35em; vertical-align: middle; margin-left: 0.5rem\">NORP</span>\n",
              "</mark>\n",
              " politician sex \n",
              "<mark class=\"entity\" style=\"background: #aa9cfc; padding: 0.45em 0.6em; margin: 0 0.25em; line-height: 1; border-radius: 0.35em;\">\n",
              "    JFK\n",
              "    <span style=\"font-size: 0.8em; font-weight: bold; line-height: 1; border-radius: 0.35em; vertical-align: middle; margin-left: 0.5rem\">PERSON</span>\n",
              "</mark>\n",
              ", blown away, what else do I have to say We didn't start the fire It was always burning Since the world's been turning We didn't start the fire No we didn't light it But we tried to fight it Birth control, \n",
              "<mark class=\"entity\" style=\"background: #aa9cfc; padding: 0.45em 0.6em; margin: 0 0.25em; line-height: 1; border-radius: 0.35em;\">\n",
              "    Ho Chi Minh\n",
              "    <span style=\"font-size: 0.8em; font-weight: bold; line-height: 1; border-radius: 0.35em; vertical-align: middle; margin-left: 0.5rem\">PERSON</span>\n",
              "</mark>\n",
              ", \n",
              "<mark class=\"entity\" style=\"background: #aa9cfc; padding: 0.45em 0.6em; margin: 0 0.25em; line-height: 1; border-radius: 0.35em;\">\n",
              "    Richard Nixon\n",
              "    <span style=\"font-size: 0.8em; font-weight: bold; line-height: 1; border-radius: 0.35em; vertical-align: middle; margin-left: 0.5rem\">PERSON</span>\n",
              "</mark>\n",
              " back again \n",
              "<mark class=\"entity\" style=\"background: #aa9cfc; padding: 0.45em 0.6em; margin: 0 0.25em; line-height: 1; border-radius: 0.35em;\">\n",
              "    Moonshot\n",
              "    <span style=\"font-size: 0.8em; font-weight: bold; line-height: 1; border-radius: 0.35em; vertical-align: middle; margin-left: 0.5rem\">PERSON</span>\n",
              "</mark>\n",
              ", \n",
              "<mark class=\"entity\" style=\"background: #aa9cfc; padding: 0.45em 0.6em; margin: 0 0.25em; line-height: 1; border-radius: 0.35em;\">\n",
              "    Woodstock\n",
              "    <span style=\"font-size: 0.8em; font-weight: bold; line-height: 1; border-radius: 0.35em; vertical-align: middle; margin-left: 0.5rem\">PERSON</span>\n",
              "</mark>\n",
              ", \n",
              "<mark class=\"entity\" style=\"background: #ffeb80; padding: 0.45em 0.6em; margin: 0 0.25em; line-height: 1; border-radius: 0.35em;\">\n",
              "    Watergate\n",
              "    <span style=\"font-size: 0.8em; font-weight: bold; line-height: 1; border-radius: 0.35em; vertical-align: middle; margin-left: 0.5rem\">EVENT</span>\n",
              "</mark>\n",
              ", punk rock Begin, \n",
              "<mark class=\"entity\" style=\"background: #aa9cfc; padding: 0.45em 0.6em; margin: 0 0.25em; line-height: 1; border-radius: 0.35em;\">\n",
              "    Reagan\n",
              "    <span style=\"font-size: 0.8em; font-weight: bold; line-height: 1; border-radius: 0.35em; vertical-align: middle; margin-left: 0.5rem\">PERSON</span>\n",
              "</mark>\n",
              ", \n",
              "<mark class=\"entity\" style=\"background: #feca74; padding: 0.45em 0.6em; margin: 0 0.25em; line-height: 1; border-radius: 0.35em;\">\n",
              "    Palestine\n",
              "    <span style=\"font-size: 0.8em; font-weight: bold; line-height: 1; border-radius: 0.35em; vertical-align: middle; margin-left: 0.5rem\">GPE</span>\n",
              "</mark>\n",
              ", terror on the airline \n",
              "<mark class=\"entity\" style=\"background: #7aecec; padding: 0.45em 0.6em; margin: 0 0.25em; line-height: 1; border-radius: 0.35em;\">\n",
              "    Ayatollah\n",
              "    <span style=\"font-size: 0.8em; font-weight: bold; line-height: 1; border-radius: 0.35em; vertical-align: middle; margin-left: 0.5rem\">ORG</span>\n",
              "</mark>\n",
              "'s in \n",
              "<mark class=\"entity\" style=\"background: #feca74; padding: 0.45em 0.6em; margin: 0 0.25em; line-height: 1; border-radius: 0.35em;\">\n",
              "    Iran\n",
              "    <span style=\"font-size: 0.8em; font-weight: bold; line-height: 1; border-radius: 0.35em; vertical-align: middle; margin-left: 0.5rem\">GPE</span>\n",
              "</mark>\n",
              ", \n",
              "<mark class=\"entity\" style=\"background: #c887fb; padding: 0.45em 0.6em; margin: 0 0.25em; line-height: 1; border-radius: 0.35em;\">\n",
              "    Russians\n",
              "    <span style=\"font-size: 0.8em; font-weight: bold; line-height: 1; border-radius: 0.35em; vertical-align: middle; margin-left: 0.5rem\">NORP</span>\n",
              "</mark>\n",
              " in \n",
              "<mark class=\"entity\" style=\"background: #feca74; padding: 0.45em 0.6em; margin: 0 0.25em; line-height: 1; border-radius: 0.35em;\">\n",
              "    Afghanistan\n",
              "    <span style=\"font-size: 0.8em; font-weight: bold; line-height: 1; border-radius: 0.35em; vertical-align: middle; margin-left: 0.5rem\">GPE</span>\n",
              "</mark>\n",
              " &quot;\n",
              "<mark class=\"entity\" style=\"background: #f0d0ff; padding: 0.45em 0.6em; margin: 0 0.25em; line-height: 1; border-radius: 0.35em;\">\n",
              "    Wheel of Fortune\n",
              "    <span style=\"font-size: 0.8em; font-weight: bold; line-height: 1; border-radius: 0.35em; vertical-align: middle; margin-left: 0.5rem\">WORK_OF_ART</span>\n",
              "</mark>\n",
              "&quot;, \n",
              "<mark class=\"entity\" style=\"background: #aa9cfc; padding: 0.45em 0.6em; margin: 0 0.25em; line-height: 1; border-radius: 0.35em;\">\n",
              "    Sally Ride\n",
              "    <span style=\"font-size: 0.8em; font-weight: bold; line-height: 1; border-radius: 0.35em; vertical-align: middle; margin-left: 0.5rem\">PERSON</span>\n",
              "</mark>\n",
              ", heavy metal, suicide Foreign debts, homeless vets, AIDS, crack, \n",
              "<mark class=\"entity\" style=\"background: #aa9cfc; padding: 0.45em 0.6em; margin: 0 0.25em; line-height: 1; border-radius: 0.35em;\">\n",
              "    Bernie Goetz Hypodermics\n",
              "    <span style=\"font-size: 0.8em; font-weight: bold; line-height: 1; border-radius: 0.35em; vertical-align: middle; margin-left: 0.5rem\">PERSON</span>\n",
              "</mark>\n",
              " on the shores, \n",
              "<mark class=\"entity\" style=\"background: #feca74; padding: 0.45em 0.6em; margin: 0 0.25em; line-height: 1; border-radius: 0.35em;\">\n",
              "    China\n",
              "    <span style=\"font-size: 0.8em; font-weight: bold; line-height: 1; border-radius: 0.35em; vertical-align: middle; margin-left: 0.5rem\">GPE</span>\n",
              "</mark>\n",
              "'s under martial law Rock and roller cola wars, I can't take it anymore We didn't start the fire It was always burning Since the world's been turning We didn't start the fire But when we are gone Will it still burn on, and on, and on, and on We didn't start the fire It was always burning Since the world's been turning We didn't start the fire No we didn't light it But we tried to fight it We didn't start the fire It was always burning Since the world's been turning We didn't start the fire No we didn't light it But we tried to fight it</br></br>Sheet Music \n",
              "<mark class=\"entity\" style=\"background: #f0d0ff; padding: 0.45em 0.6em; margin: 0 0.25em; line-height: 1; border-radius: 0.35em;\">\n",
              "    PDF Playlist Written\n",
              "    <span style=\"font-size: 0.8em; font-weight: bold; line-height: 1; border-radius: 0.35em; vertical-align: middle; margin-left: 0.5rem\">WORK_OF_ART</span>\n",
              "</mark>\n",
              " by: \n",
              "<mark class=\"entity\" style=\"background: #aa9cfc; padding: 0.45em 0.6em; margin: 0 0.25em; line-height: 1; border-radius: 0.35em;\">\n",
              "    Billy Joel Lyrics\n",
              "    <span style=\"font-size: 0.8em; font-weight: bold; line-height: 1; border-radius: 0.35em; vertical-align: middle; margin-left: 0.5rem\">PERSON</span>\n",
              "</mark>\n",
              " © \n",
              "<mark class=\"entity\" style=\"background: #7aecec; padding: 0.45em 0.6em; margin: 0 0.25em; line-height: 1; border-radius: 0.35em;\">\n",
              "    Universal Music Publishing Group Lyrics Licensed &amp; Provided\n",
              "    <span style=\"font-size: 0.8em; font-weight: bold; line-height: 1; border-radius: 0.35em; vertical-align: middle; margin-left: 0.5rem\">ORG</span>\n",
              "</mark>\n",
              " by \n",
              "<mark class=\"entity\" style=\"background: #7aecec; padding: 0.45em 0.6em; margin: 0 0.25em; line-height: 1; border-radius: 0.35em;\">\n",
              "    LyricFind\n",
              "    <span style=\"font-size: 0.8em; font-weight: bold; line-height: 1; border-radius: 0.35em; vertical-align: middle; margin-left: 0.5rem\">ORG</span>\n",
              "</mark>\n",
              "</div></span>"
            ],
            "text/plain": [
              "<IPython.core.display.HTML object>"
            ]
          },
          "metadata": {}
        }
      ]
    },
    {
      "cell_type": "markdown",
      "metadata": {
        "id": "9bUr1CGp0EbM"
      },
      "source": [
        "## Custom NER Model"
      ]
    },
    {
      "cell_type": "code",
      "metadata": {
        "id": "VCwEhH3k9Eps"
      },
      "source": [
        "################################## Custom NER\n",
        "##\n",
        "## we will build train our own NER model\n",
        "##\n",
        "##\n"
      ],
      "execution_count": null,
      "outputs": []
    },
    {
      "cell_type": "code",
      "metadata": {
        "id": "gftFNS9mkhEH"
      },
      "source": [
        "# first, download the repo\n",
        "# we are git cloning it into our session\n",
        "\n",
        "# ! git clone https://github.com/Btibert3/BA820-Fall-2021.git"
      ],
      "execution_count": null,
      "outputs": []
    },
    {
      "cell_type": "code",
      "metadata": {
        "id": "WrbdUAJCkhH0"
      },
      "source": [
        "# read in the pre-annotated dataset\n",
        "\n",
        "path = \"/content/ner1.json\"\n",
        "with open(path, \"r\") as f:\n",
        "  a = json.load(f)"
      ],
      "execution_count": null,
      "outputs": []
    },
    {
      "cell_type": "markdown",
      "metadata": {
        "id": "h1VeyRockhKj"
      },
      "source": [
        "> NOTE:  This was annotated using Label Studio!  The task was to identify product ids when supplied by customers in service requests.  This can be used to lookup information from a database for the customer service rep and expedite the process."
      ]
    },
    {
      "cell_type": "code",
      "metadata": {
        "id": "folzNNmgkhNJ"
      },
      "source": [
        "# needs to be in the form of \n",
        "# [ (doc, {“entities”: [ (start, end, label) ]}) ]\n",
        "# this assumes one label per entity, but will put any\n",
        "##\n",
        "# label studio annotated NER training file in the shape that spacy needs!\n",
        "\n",
        "TRAIN_DATA = []\n",
        "for entry in a:\n",
        "  doc = entry.get('data').get('text')\n",
        "  result = entry.get(\"annotations\")[0].get('result')\n",
        "  if len(result) == 0:\n",
        "    continue\n",
        "  entities = []\n",
        "  for r in result:\n",
        "    ent = r.get('value')\n",
        "    entities.append([ent.get('start'), ent.get('end'), ent.get('labels')[0]])\n",
        "  TRAIN_DATA.append([doc, {'entities': entities}])\n"
      ],
      "execution_count": null,
      "outputs": []
    },
    {
      "cell_type": "code",
      "metadata": {
        "id": "M7RUAJmSpZuj"
      },
      "source": [
        "# NOTE: this script is commonly found as the reference build the spacy file format\n",
        "\n",
        "import srsly\n",
        "import typer\n",
        "import warnings\n",
        "from pathlib import Path\n",
        "\n",
        "import spacy\n",
        "from spacy.tokens import DocBin\n",
        "\n",
        "def convert(lang: str, TRAIN_DATA, output_path: Path):\n",
        "    nlp = spacy.blank(lang)\n",
        "    db = DocBin()\n",
        "    for text, annot in TRAIN_DATA:\n",
        "      doc = nlp.make_doc(text)\n",
        "      ents = []\n",
        "      for start, end, label in annot[\"entities\"]:\n",
        "        # print(start, end, label)\n",
        "        span = doc.char_span(start, end, label=label)\n",
        "        if span is None:\n",
        "            msg = f\"Skipping entity [{start}, {end}, {label}] in the following text because the character span '{doc.text[start:end]}' does not align with token boundaries:\\n\\n{repr(text)}\\n\"\n",
        "            #warnings.warn(msg)\n",
        "        else:\n",
        "            ents.append(span)\n",
        "      doc.ents = ents\n",
        "      db.add(doc)\n",
        "    db.to_disk(output_path)\n",
        "\n",
        "# this wrties the file to our session standard working directory\n",
        "convert(\"en\", TRAIN_DATA, \"train.spacy\")"
      ],
      "execution_count": null,
      "outputs": []
    },
    {
      "cell_type": "code",
      "metadata": {
        "id": "a9lz4JMNp9gm",
        "colab": {
          "base_uri": "https://localhost:8080/"
        },
        "outputId": "5e4d9a98-2515-43ab-8a7b-dab8578655ef"
      },
      "source": [
        "# spacy requires/STRONGLY prefers (3+) that we use the explicit config system\n",
        "# admittedly this adds a huge layer of complexity to the abstraction framework\n",
        "# I suspect that this will become both easier and more transparent shortly\n",
        "\n",
        "# the cli way to setup the model config\n",
        "!python -m spacy init config --lang en --pipeline ner config.cfg --force"
      ],
      "execution_count": null,
      "outputs": [
        {
          "output_type": "stream",
          "name": "stdout",
          "text": [
            "\u001b[38;5;3m⚠ To generate a more effective transformer-based config (GPU-only),\n",
            "install the spacy-transformers package and re-run this command. The config\n",
            "generated now does not use transformers.\u001b[0m\n",
            "\u001b[38;5;4mℹ Generated config template specific for your use case\u001b[0m\n",
            "- Language: en\n",
            "- Pipeline: ner\n",
            "- Optimize for: efficiency\n",
            "- Hardware: CPU\n",
            "- Transformer: None\n",
            "\u001b[38;5;2m✔ Auto-filled config with all values\u001b[0m\n",
            "\u001b[38;5;2m✔ Saved config\u001b[0m\n",
            "config.cfg\n",
            "You can now add your data and train your pipeline:\n",
            "python -m spacy train config.cfg --paths.train ./train.spacy --paths.dev ./dev.spacy\n"
          ]
        }
      ]
    },
    {
      "cell_type": "code",
      "metadata": {
        "id": "rrd36oWNqqdl"
      },
      "source": [
        "# copy the train.spacy as dev.spacy  -- not great, \n",
        "# but I didn't create enough labels for a dev set\n",
        "\n",
        "! cp train.spacy dev.spacy"
      ],
      "execution_count": null,
      "outputs": []
    },
    {
      "cell_type": "code",
      "metadata": {
        "id": "zZiyoTbprGlY",
        "colab": {
          "base_uri": "https://localhost:8080/"
        },
        "outputId": "4980a69c-c856-490b-ee86-b5249e0b2615"
      },
      "source": [
        "#tell spacy to train the model on our datasets and export the model\n",
        "\n",
        "! python -m spacy train config.cfg                     \\\n",
        "                        --output ./                    \\\n",
        "                        --paths.train ./train.spacy    \\\n",
        "                        --paths.dev ./dev.spacy        \\\n",
        "                        --training.max_epochs 5        \\\n",
        "                        --training.eval_frequency 10"
      ],
      "execution_count": null,
      "outputs": [
        {
          "output_type": "stream",
          "name": "stdout",
          "text": [
            "\u001b[38;5;4mℹ Saving to output directory: .\u001b[0m\n",
            "\u001b[38;5;4mℹ Using CPU\u001b[0m\n",
            "\u001b[1m\n",
            "=========================== Initializing pipeline ===========================\u001b[0m\n",
            "[2021-11-29 16:43:45,319] [INFO] Set up nlp object from config\n",
            "[2021-11-29 16:43:45,331] [INFO] Pipeline: ['tok2vec', 'ner']\n",
            "[2021-11-29 16:43:45,336] [INFO] Created vocabulary\n",
            "[2021-11-29 16:43:45,338] [INFO] Finished initializing nlp object\n",
            "[2021-11-29 16:43:45,657] [INFO] Initialized pipeline components: ['tok2vec', 'ner']\n",
            "\u001b[38;5;2m✔ Initialized pipeline\u001b[0m\n",
            "\u001b[1m\n",
            "============================= Training pipeline =============================\u001b[0m\n",
            "\u001b[38;5;4mℹ Pipeline: ['tok2vec', 'ner']\u001b[0m\n",
            "\u001b[38;5;4mℹ Initial learn rate: 0.001\u001b[0m\n",
            "E    #       LOSS TOK2VEC  LOSS NER  ENTS_F  ENTS_P  ENTS_R  SCORE \n",
            "---  ------  ------------  --------  ------  ------  ------  ------\n",
            "  0       0          0.00     20.00    0.00    0.00    0.00    0.00\n",
            "  0      10          0.86    514.44    0.00    0.00    0.00    0.00\n",
            "  0      20          1.10     39.08    0.00    0.00    0.00    0.00\n",
            "  0      30          0.73     28.78    0.00    0.00    0.00    0.00\n",
            "  0      40          1.07     31.37   54.39   86.11   39.74    0.54\n",
            "  1      50          0.38     12.74   62.81   88.37   48.72    0.63\n",
            "  1      60          0.59     12.85   85.71   80.00   92.31    0.86\n",
            "  1      70          0.65      9.70   87.80   83.72   92.31    0.88\n",
            "  1      80          1.56     13.04   90.68   87.95   93.59    0.91\n",
            "  2      90          1.09      5.69   91.82   90.12   93.59    0.92\n",
            "  2     100          0.84      8.75   92.41   91.25   93.59    0.92\n",
            "  2     110          1.08      5.29   95.42   97.33   93.59    0.95\n",
            "  2     120          0.00      0.00   93.59   93.59   93.59    0.94\n",
            "  2     130          1.83      5.88   94.81   96.05   93.59    0.95\n",
            "  3     140          0.07      1.21   95.42   97.33   93.59    0.95\n",
            "  3     150          0.81      2.66   96.05   98.65   93.59    0.96\n",
            "  3     160          0.00      0.00   95.42   97.33   93.59    0.95\n",
            "  3     170          1.25      5.34   94.19   94.81   93.59    0.94\n",
            "  4     180          0.00      0.00   94.19   94.81   93.59    0.94\n",
            "  4     190          4.88      9.74   96.10   97.37   94.87    0.96\n",
            "  4     200          0.42      1.86   95.48   96.10   94.87    0.95\n",
            "\u001b[38;5;2m✔ Saved pipeline to output directory\u001b[0m\n",
            "model-last\n"
          ]
        }
      ]
    },
    {
      "cell_type": "code",
      "metadata": {
        "id": "MQJqGUvCryIO"
      },
      "source": [
        "# load in the custom model \n",
        "# remember, we only taught this model one thing \n",
        "# an NER model specific for one entity, a product id \n",
        "\n",
        "custom_nlp = spacy.load(\"model-best\")"
      ],
      "execution_count": null,
      "outputs": []
    },
    {
      "cell_type": "code",
      "metadata": {
        "id": "iq-QcZMdlxHS",
        "colab": {
          "base_uri": "https://localhost:8080/"
        },
        "outputId": "5a3edaa0-914e-4ca5-c2b4-801a359f79bd"
      },
      "source": [
        "custom_nlp.pipe_names"
      ],
      "execution_count": null,
      "outputs": [
        {
          "output_type": "execute_result",
          "data": {
            "text/plain": [
              "['tok2vec', 'ner']"
            ]
          },
          "metadata": {},
          "execution_count": 93
        }
      ]
    },
    {
      "cell_type": "code",
      "metadata": {
        "id": "Zyks4BDLl2FK",
        "colab": {
          "base_uri": "https://localhost:8080/"
        },
        "outputId": "4ea8b645-d9a5-44dd-c2f1-54f3683f50de"
      },
      "source": [
        "nlp.pipe_names"
      ],
      "execution_count": null,
      "outputs": [
        {
          "output_type": "execute_result",
          "data": {
            "text/plain": [
              "['tok2vec', 'tagger', 'parser', 'attribute_ruler', 'lemmatizer', 'ner']"
            ]
          },
          "metadata": {},
          "execution_count": 94
        }
      ]
    },
    {
      "cell_type": "code",
      "metadata": {
        "id": "OQMa2UocryhX",
        "colab": {
          "base_uri": "https://localhost:8080/"
        },
        "outputId": "bdbafb67-5b7f-4c95-9fe1-f2088fc1fff3"
      },
      "source": [
        "# lets see this relative to our original NLP model\n",
        "\n",
        "msg = \"Brock teaches at Boston University\"\n",
        "nlp(msg).ents"
      ],
      "execution_count": null,
      "outputs": [
        {
          "output_type": "execute_result",
          "data": {
            "text/plain": [
              "(Brock, Boston University)"
            ]
          },
          "metadata": {},
          "execution_count": 95
        }
      ]
    },
    {
      "cell_type": "code",
      "metadata": {
        "id": "pn9q9HlNryqd",
        "colab": {
          "base_uri": "https://localhost:8080/"
        },
        "outputId": "fef5ab06-6ee9-4c1a-e9e3-cb0c3c49e517"
      },
      "source": [
        "# and now with the custom model\n",
        "custom_nlp(msg).ents"
      ],
      "execution_count": null,
      "outputs": [
        {
          "output_type": "execute_result",
          "data": {
            "text/plain": [
              "()"
            ]
          },
          "metadata": {},
          "execution_count": 96
        }
      ]
    },
    {
      "cell_type": "code",
      "metadata": {
        "id": "UTvSk-IktaqV",
        "colab": {
          "base_uri": "https://localhost:8080/"
        },
        "outputId": "66c7e9a0-daa2-4ba5-ab79-dd750ad0ad72"
      },
      "source": [
        "# this makes sense\n",
        "# now, lets send a domain-specific message\n",
        "# try 123423-23, ABQ12234\n",
        "# play around with different reps, can see the product\n",
        "\n",
        "msg2 = \"Is the product (ABQ12234) available for overnight shipping?\"\n",
        "[(ent.label_, ent.text) for ent in custom_nlp(msg2).ents]\n",
        "\n",
        "# try 123423-23, ABQ12234\n",
        "# play around with different reps, can see the product matters \n",
        "# with (), and doesnt like - in the product id"
      ],
      "execution_count": null,
      "outputs": [
        {
          "output_type": "execute_result",
          "data": {
            "text/plain": [
              "[('PRODUCT', 'ABQ12234')]"
            ]
          },
          "metadata": {},
          "execution_count": 100
        }
      ]
    },
    {
      "cell_type": "code",
      "metadata": {
        "id": "1PNy-_6CtpzC",
        "colab": {
          "base_uri": "https://localhost:8080/"
        },
        "outputId": "8e76c514-2757-4948-8168-0eced8442d5a"
      },
      "source": [
        "# but what about when we pass above into the PRETRAINED spacy model?\n",
        "[(ent.label_, ent.text) for ent in nlp(msg2).ents]"
      ],
      "execution_count": null,
      "outputs": [
        {
          "output_type": "execute_result",
          "data": {
            "text/plain": [
              "[('PERSON', 'ABQ12234'), ('TIME', 'overnight')]"
            ]
          },
          "metadata": {},
          "execution_count": 101
        }
      ]
    },
    {
      "cell_type": "markdown",
      "metadata": {
        "id": "H26V0ugQuY49"
      },
      "source": [
        "> If you attempt different values for the product above, you will see the generic spacy NER model flags the entity, but it can vary.  \n",
        "\n",
        "__So what can we do?__\n",
        "\n",
        "We _could_ add the new NER model into the pipeline.  WOrth noting, though, is that the order of the pipeline matters.  Naturally you would want to put this last, BUT, we saw that products are being flagged by the generic model.  If that is first in the pipeline, it will override our more accurately trained, Product Entitty.  This has all sorts of issues, but worth noting.\n",
        "\n",
        "> This is a common problem when trying to think about updating models.  Models can forget.  One approach, and the one that the folks at explosion suggest is to train a net-new model, but one that blends a silver-standard dataset with the gold-standard dataset for the new entity.\n",
        "\n",
        "- Create a training set from the existing model by passing in text and using the NER annotations as truth.  These are inferences, so considered \"silver\".\n",
        "- Append to the dataset above the training data for the new entity\n",
        "- train a completely new model, and use that.\n",
        "\n",
        "\n",
        "> In a way, my endless rant on domain-specific applies here.\n",
        "\n",
        "\n"
      ]
    },
    {
      "cell_type": "code",
      "metadata": {
        "id": "Lb6QJyrX44cG"
      },
      "source": [
        "###################################### YOUR TURN\n",
        "##\n",
        "## Using the dataset on Big Query `questrom.datasets.uber`\n",
        "## extract the entities using spacy's learned NER model\n",
        "## identify the top 5 locations (GPE)\n",
        "## \n",
        "##\n",
        "\n"
      ],
      "execution_count": null,
      "outputs": []
    },
    {
      "cell_type": "code",
      "metadata": {
        "id": "IM9gsFbGOkX9"
      },
      "source": [
        ""
      ],
      "execution_count": null,
      "outputs": []
    },
    {
      "cell_type": "code",
      "metadata": {
        "id": "pkvzWBsOOkU7"
      },
      "source": [
        ""
      ],
      "execution_count": null,
      "outputs": []
    },
    {
      "cell_type": "code",
      "metadata": {
        "id": "X1w6AqllOkQP"
      },
      "source": [
        ""
      ],
      "execution_count": null,
      "outputs": []
    },
    {
      "cell_type": "code",
      "metadata": {
        "id": "FVbEp4r9MHIY"
      },
      "source": [
        ""
      ],
      "execution_count": null,
      "outputs": []
    }
  ]
}