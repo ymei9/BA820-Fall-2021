{
  "cells": [
    {
      "cell_type": "code",
      "execution_count": null,
      "metadata": {
        "id": "b4Wo4sFbKVQM"
      },
      "outputs": [],
      "source": [
        "# imports\n",
        "import pandas as pd\n",
        "from mlxtend.frequent_patterns import apriori, association_rules\n",
        "import numpy as np\n",
        "import seaborn as sns\n",
        "import matplotlib.pyplot as plt\n",
        "import plotly.express as px\n",
        "\n",
        "# my project in Google Cloud used\n",
        "PROJECT = \"questrom\"\n",
        "\n",
        "# some settings for pandas\n",
        "pd.options.display.max_rows=125\n",
        "pd.options.display.max_columns=100\n"
      ]
    },
    {
      "cell_type": "code",
      "execution_count": null,
      "metadata": {
        "id": "UKWvf_q-U9oP"
      },
      "outputs": [],
      "source": [
        "# auth against your BU GCP account \n",
        "from google.colab import auth\n",
        "auth.authenticate_user()\n",
        "print('Authenticated')"
      ]
    },
    {
      "cell_type": "code",
      "execution_count": null,
      "metadata": {
        "id": "HzhNYZVLVVdv"
      },
      "outputs": [],
      "source": [
        "# get the data from Big Query\n",
        "# select all the records  \n",
        "SQL = \"\"\"\n",
        "SELECT *\n",
        "FROM `questrom.datasets.crm_campaign`\n",
        "\"\"\"\n",
        "\n",
        "crm = pd.io.gbq.read_gbq(SQL, PROJECT)"
      ]
    },
    {
      "cell_type": "code",
      "execution_count": null,
      "metadata": {
        "id": "27dkHPMSVVjj"
      },
      "outputs": [],
      "source": [
        "# what do we have\n",
        "crm.shape"
      ]
    },
    {
      "cell_type": "code",
      "execution_count": null,
      "metadata": {
        "id": "9czBqSD-VVnS"
      },
      "outputs": [],
      "source": [
        "crm.head()"
      ]
    },
    {
      "cell_type": "code",
      "execution_count": null,
      "metadata": {
        "id": "8ZKok8uZXpLB"
      },
      "outputs": [],
      "source": [
        "#### Exercise 1"
      ]
    },
    {
      "cell_type": "code",
      "execution_count": null,
      "metadata": {
        "id": "iv_ZbX7DVVp3"
      },
      "outputs": [],
      "source": [
        "# first, I am going to use granular codes, not the category\n",
        "# so drop contcat\n",
        "crm.drop(columns=\"contcat\", inplace=True)\n"
      ]
    },
    {
      "cell_type": "code",
      "execution_count": null,
      "metadata": {
        "id": "sedX5LDsXiIn"
      },
      "outputs": [],
      "source": [
        "# second, drop dupes if any\n",
        "crm.drop_duplicates(inplace=True)"
      ]
    },
    {
      "cell_type": "code",
      "execution_count": null,
      "metadata": {
        "id": "KLs8WlAxXmra"
      },
      "outputs": [],
      "source": [
        "# last confirm we have missing data\n",
        "crm.isna().sum()"
      ]
    },
    {
      "cell_type": "code",
      "execution_count": null,
      "metadata": {
        "id": "yMfPmGxgXxIk"
      },
      "outputs": [],
      "source": [
        "# we will remove these records\n",
        "# even robust client data warehouses will have dirty data!\n",
        "crm.dropna(inplace=True)\n",
        "\n",
        "crm.isna().sum()"
      ]
    },
    {
      "cell_type": "code",
      "execution_count": null,
      "metadata": {
        "id": "J0J1NfGcYV9v"
      },
      "outputs": [],
      "source": [
        "# ok, reshape\n",
        "crm['flag'] = True\n",
        "\n",
        "db = crm.pivot(index=\"crm_id\", columns=\"contcode\", values=\"flag\")\n",
        "db.fillna(False, inplace=True)\n",
        "\n",
        "db.shape"
      ]
    },
    {
      "cell_type": "code",
      "execution_count": null,
      "metadata": {
        "id": "JBS7lXZdaJIe"
      },
      "outputs": [],
      "source": [
        "#### Exercise 2"
      ]
    },
    {
      "cell_type": "code",
      "execution_count": null,
      "metadata": {
        "id": "s8VgwC3mYq4A"
      },
      "outputs": [],
      "source": [
        "# a quick glimpse\n",
        "db.head(3)"
      ]
    },
    {
      "cell_type": "code",
      "execution_count": null,
      "metadata": {
        "id": "FD5W6yECaERS"
      },
      "outputs": [],
      "source": [
        "# lets review how many \"converted\" via the CMO marketing code\n",
        "converted = db.CMO.sum() \n",
        "print(converted)\n",
        "db.CMO.mean()"
      ]
    },
    {
      "cell_type": "code",
      "execution_count": null,
      "metadata": {
        "id": "yz7LFUxZadoY"
      },
      "outputs": [],
      "source": [
        "#2 ten most frequent interactions\n",
        "interactions = db.sum(axis=0)\n",
        "interactions.sort_values(ascending=False)[:10]"
      ]
    },
    {
      "cell_type": "code",
      "execution_count": null,
      "metadata": {
        "id": "ZpKvVROYakFU"
      },
      "outputs": [],
      "source": [
        "#3 avg number of transcations\n",
        "user_ints = db.sum(axis=1)\n",
        "user_ints.mean() "
      ]
    },
    {
      "cell_type": "code",
      "execution_count": null,
      "metadata": {
        "id": "VngFMddXbTxs"
      },
      "outputs": [],
      "source": [
        "#4 item frequency\n",
        "interactions_f = interactions / len(db)\n",
        "\n",
        "interactions_f.sort_values(ascending=False, inplace=True)\n",
        "\n",
        "sns.lineplot(range(len(interactions_f)), interactions_f.values)"
      ]
    },
    {
      "cell_type": "code",
      "execution_count": null,
      "metadata": {
        "id": "anN8bMeLbfGH"
      },
      "outputs": [],
      "source": [
        "#### Exercise 3"
      ]
    },
    {
      "cell_type": "code",
      "execution_count": null,
      "metadata": {
        "id": "zfIFK0otcA5O"
      },
      "outputs": [],
      "source": [
        "itemsets = apriori(db, min_support=.0002, use_colnames=True)\n",
        "\n",
        "rules = association_rules(itemsets, metric=\"support\", min_threshold=.0002)"
      ]
    },
    {
      "cell_type": "code",
      "execution_count": null,
      "metadata": {
        "id": "lPLjAFeYcVar"
      },
      "outputs": [],
      "source": [
        "#### Exercise 4"
      ]
    },
    {
      "cell_type": "code",
      "execution_count": null,
      "metadata": {
        "id": "4eWqtx98cZCB"
      },
      "outputs": [],
      "source": [
        "# a quick review across the outputs\n",
        "rules.describe()"
      ]
    },
    {
      "cell_type": "code",
      "execution_count": null,
      "metadata": {
        "id": "iV0LhSh0dF5o"
      },
      "outputs": [],
      "source": [
        "# sample 10 rules\n",
        "rules.sample(10).head()"
      ]
    },
    {
      "cell_type": "code",
      "execution_count": null,
      "metadata": {
        "id": "mu1gWrQLdcaI"
      },
      "outputs": [],
      "source": [
        "# top 10 lift\n",
        "rules.sort_values(\"lift\", ascending=False).head(10)"
      ]
    },
    {
      "cell_type": "code",
      "execution_count": null,
      "metadata": {
        "id": "UALm3MJkewSZ"
      },
      "outputs": [],
      "source": [
        "# top 10 on count\n",
        "# we can work backwards\n",
        "rules['count'] = rules.support * len(db)\n",
        "\n",
        "rules.sort_values('count', ascending=False).head(10)"
      ]
    },
    {
      "cell_type": "code",
      "execution_count": null,
      "metadata": {
        "id": "3w9fzPIvfGU8"
      },
      "outputs": [],
      "source": [
        "# keep just those with 6 on the LHS\n",
        "# rules that always hold have infinite conviction \n",
        "# https://michael.hahsler.net/research/association_rules/measures.html#conviction\n",
        "rules['lhs_len'] = rules.antecedents.apply(lambda x: len(x))\n",
        "\n",
        "rules.loc[rules.lhs_len == 6, :].shape"
      ]
    },
    {
      "cell_type": "code",
      "execution_count": null,
      "metadata": {
        "id": "nV46Q73NfIAi"
      },
      "outputs": [],
      "source": [
        "rules.loc[rules.lhs_len == 6, :].sample(5)"
      ]
    },
    {
      "cell_type": "code",
      "execution_count": null,
      "metadata": {
        "id": "RoU4BmxignvD"
      },
      "outputs": [],
      "source": [
        "#### Exercise 5"
      ]
    },
    {
      "cell_type": "code",
      "execution_count": null,
      "metadata": {
        "id": "_NZde8TLhaLo"
      },
      "outputs": [],
      "source": [
        "# make a copy\n",
        "strategy = rules.copy()\n",
        "\n",
        "# calc rhs length\n",
        "strategy['rhs_len'] = strategy.consequents.apply(lambda x: len(x))"
      ]
    },
    {
      "cell_type": "code",
      "execution_count": null,
      "metadata": {
        "id": "IwxRt5OMhdPG"
      },
      "outputs": [],
      "source": [
        "# keep jus the rules with the sales conversion on the right\n",
        "ROWS = np.where((strategy.consequents=={'CMO'}) & (strategy.rhs_len == 1))\n",
        "\n",
        "strategy = strategy.iloc[ROWS[0], :]"
      ]
    },
    {
      "cell_type": "code",
      "execution_count": 1,
      "metadata": {
        "id": "aHV2pXAPiAF7"
      },
      "outputs": [
        {
          "ename": "NameError",
          "evalue": "name 'strategy' is not defined",
          "output_type": "error",
          "traceback": [
            "\u001b[0;31m---------------------------------------------------------------------------\u001b[0m",
            "\u001b[0;31mNameError\u001b[0m                                 Traceback (most recent call last)",
            "\u001b[0;32m/var/folders/sw/g1xh6c7s15z68fxhvbqrmxx40000gn/T/ipykernel_2403/3758188765.py\u001b[0m in \u001b[0;36m<module>\u001b[0;34m\u001b[0m\n\u001b[1;32m      1\u001b[0m \u001b[0;31m# confirm this is what we intended\u001b[0m\u001b[0;34m\u001b[0m\u001b[0;34m\u001b[0m\u001b[0;34m\u001b[0m\u001b[0m\n\u001b[0;32m----> 2\u001b[0;31m \u001b[0mstrategy\u001b[0m\u001b[0;34m.\u001b[0m\u001b[0mshape\u001b[0m\u001b[0;34m\u001b[0m\u001b[0;34m\u001b[0m\u001b[0m\n\u001b[0m\u001b[1;32m      3\u001b[0m \u001b[0;34m\u001b[0m\u001b[0m\n\u001b[1;32m      4\u001b[0m \u001b[0mstrategy\u001b[0m\u001b[0;34m.\u001b[0m\u001b[0mhead\u001b[0m\u001b[0;34m(\u001b[0m\u001b[0;34m)\u001b[0m\u001b[0;34m\u001b[0m\u001b[0;34m\u001b[0m\u001b[0m\n",
            "\u001b[0;31mNameError\u001b[0m: name 'strategy' is not defined"
          ]
        }
      ],
      "source": [
        "# confirm this is what we intended\n",
        "strategy.shape\n",
        "\n",
        "strategy.head()"
      ]
    },
    {
      "cell_type": "code",
      "execution_count": null,
      "metadata": {
        "id": "6QXNzeZQiNgt"
      },
      "outputs": [],
      "source": [
        "# explore -- long sales pipelines == many interactions on the LHS\n",
        "\n",
        "strategy.sort_values('lhs_len', ascending=False).head(10)"
      ]
    },
    {
      "cell_type": "code",
      "execution_count": null,
      "metadata": {
        "id": "MbCRm3fxiOwK"
      },
      "outputs": [],
      "source": [
        "# some plots\n",
        "\n",
        "sns.scatterplot(data=strategy, x=\"support\", y=\"confidence\", hue=\"lift\")"
      ]
    },
    {
      "cell_type": "code",
      "execution_count": null,
      "metadata": {
        "id": "yXTLP5eCjgFS"
      },
      "outputs": [],
      "source": [
        "# number of lhs items balanced against support\n",
        "sns.boxplot(data=strategy, x=\"lhs_len\", y=\"confidence\", color=\"grey\")\n",
        "\n",
        "## what does this suggest about a customers interactions WHEN, we know that they converted?"
      ]
    },
    {
      "cell_type": "code",
      "execution_count": null,
      "metadata": {
        "id": "FgZ86XK_jzc6"
      },
      "outputs": [],
      "source": [
        "# fastest path\n",
        "rule1 = strategy.loc[strategy.lhs_len == 1, :]\n",
        "rule1.sort_values(\"lift\", ascending=False, inplace=True)\n",
        "\n",
        "rule1.head(10)"
      ]
    },
    {
      "cell_type": "code",
      "execution_count": null,
      "metadata": {
        "id": "RHiGu612kdNx"
      },
      "outputs": [],
      "source": [
        "# above, you might recommend flagging those that only have TSA interaction\n",
        "# or to provide options, by say, filtering on sample size > 500?"
      ]
    }
  ],
  "metadata": {
    "colab": {
      "collapsed_sections": [],
      "name": "01-arules-EXERCISE-CODE",
      "private_outputs": true,
      "provenance": []
    },
    "kernelspec": {
      "display_name": "Python 3",
      "name": "python3"
    },
    "language_info": {
      "codemirror_mode": {
        "name": "ipython",
        "version": 3
      },
      "file_extension": ".py",
      "mimetype": "text/x-python",
      "name": "python",
      "nbconvert_exporter": "python",
      "pygments_lexer": "ipython3",
      "version": "3.8.11"
    }
  },
  "nbformat": 4,
  "nbformat_minor": 0
}
